{
 "cells": [
  {
   "cell_type": "markdown",
   "id": "4bcb54db",
   "metadata": {},
   "source": [
    "# Heart Disease Dataset\n",
    "\n",
    "\n",
    "\n",
    "Attribute Information\n",
    "\n",
    "Age: age of the patient [years]\n",
    "    \n",
    "Sex: sex of the patient [M: Male, F: Female]\n",
    "    \n",
    "ChestPainType: chest pain type [TA: Typical Angina, ATA: Atypical Angina, NAP: Non-Anginal Pain, ASY: Asymptomatic]\n",
    "    \n",
    "RestingBP: resting blood pressure [mm Hg]\n",
    "    \n",
    "Cholesterol: serum cholesterol [mm/dl]\n",
    "    \n",
    "FastingBS: fasting blood sugar [1: if FastingBS > 120 mg/dl, 0: otherwise]\n",
    "    \n",
    "RestingECG: resting electrocardiogram results [Normal: Normal, ST: having ST-T wave abnormality \n",
    "                                               (T wave inversions and/or ST elevation or depression of > 0.05 mV), \n",
    "                                               LVH: showing probable or definite left ventricular hypertrophy by Estes' \n",
    "                                               criteria]\n",
    "    \n",
    "MaxHR: maximum heart rate achieved [Numeric value between 60 and 202]\n",
    "                                               \n",
    "ExerciseAngina: exercise-induced angina [Y: Yes, N: No]\n",
    "                                               \n",
    "Oldpeak: oldpeak = ST [Numeric value measured in depression]\n",
    "                                               \n",
    "ST_Slope: the slope of the peak exercise ST segment [Up: upsloping, Flat: flat, Down: downsloping]\n",
    "                                               \n",
    "HeartDisease: output class [1: heart disease, 0: Normal]"
   ]
  },
  {
   "cell_type": "code",
   "execution_count": 43,
   "id": "5bdf779a",
   "metadata": {},
   "outputs": [],
   "source": [
    "# libraries\n",
    "import pandas as pd\n",
    "import numpy as np\n",
    "import matplotlib.pyplot as plt \n",
    "import seaborn as sn"
   ]
  },
  {
   "cell_type": "code",
   "execution_count": 5,
   "id": "7421d570",
   "metadata": {
    "scrolled": true
   },
   "outputs": [
    {
     "data": {
      "text/html": [
       "<div>\n",
       "<style scoped>\n",
       "    .dataframe tbody tr th:only-of-type {\n",
       "        vertical-align: middle;\n",
       "    }\n",
       "\n",
       "    .dataframe tbody tr th {\n",
       "        vertical-align: top;\n",
       "    }\n",
       "\n",
       "    .dataframe thead th {\n",
       "        text-align: right;\n",
       "    }\n",
       "</style>\n",
       "<table border=\"1\" class=\"dataframe\">\n",
       "  <thead>\n",
       "    <tr style=\"text-align: right;\">\n",
       "      <th></th>\n",
       "      <th>Age</th>\n",
       "      <th>Sex</th>\n",
       "      <th>ChestPainType</th>\n",
       "      <th>RestingBP</th>\n",
       "      <th>Cholesterol</th>\n",
       "      <th>FastingBS</th>\n",
       "      <th>RestingECG</th>\n",
       "      <th>MaxHR</th>\n",
       "      <th>ExerciseAngina</th>\n",
       "      <th>Oldpeak</th>\n",
       "      <th>ST_Slope</th>\n",
       "      <th>HeartDisease</th>\n",
       "    </tr>\n",
       "  </thead>\n",
       "  <tbody>\n",
       "    <tr>\n",
       "      <th>0</th>\n",
       "      <td>40</td>\n",
       "      <td>M</td>\n",
       "      <td>ATA</td>\n",
       "      <td>140</td>\n",
       "      <td>289</td>\n",
       "      <td>0</td>\n",
       "      <td>Normal</td>\n",
       "      <td>172</td>\n",
       "      <td>N</td>\n",
       "      <td>0.0</td>\n",
       "      <td>Up</td>\n",
       "      <td>0</td>\n",
       "    </tr>\n",
       "    <tr>\n",
       "      <th>1</th>\n",
       "      <td>49</td>\n",
       "      <td>F</td>\n",
       "      <td>NAP</td>\n",
       "      <td>160</td>\n",
       "      <td>180</td>\n",
       "      <td>0</td>\n",
       "      <td>Normal</td>\n",
       "      <td>156</td>\n",
       "      <td>N</td>\n",
       "      <td>1.0</td>\n",
       "      <td>Flat</td>\n",
       "      <td>1</td>\n",
       "    </tr>\n",
       "    <tr>\n",
       "      <th>2</th>\n",
       "      <td>37</td>\n",
       "      <td>M</td>\n",
       "      <td>ATA</td>\n",
       "      <td>130</td>\n",
       "      <td>283</td>\n",
       "      <td>0</td>\n",
       "      <td>ST</td>\n",
       "      <td>98</td>\n",
       "      <td>N</td>\n",
       "      <td>0.0</td>\n",
       "      <td>Up</td>\n",
       "      <td>0</td>\n",
       "    </tr>\n",
       "    <tr>\n",
       "      <th>3</th>\n",
       "      <td>48</td>\n",
       "      <td>F</td>\n",
       "      <td>ASY</td>\n",
       "      <td>138</td>\n",
       "      <td>214</td>\n",
       "      <td>0</td>\n",
       "      <td>Normal</td>\n",
       "      <td>108</td>\n",
       "      <td>Y</td>\n",
       "      <td>1.5</td>\n",
       "      <td>Flat</td>\n",
       "      <td>1</td>\n",
       "    </tr>\n",
       "    <tr>\n",
       "      <th>4</th>\n",
       "      <td>54</td>\n",
       "      <td>M</td>\n",
       "      <td>NAP</td>\n",
       "      <td>150</td>\n",
       "      <td>195</td>\n",
       "      <td>0</td>\n",
       "      <td>Normal</td>\n",
       "      <td>122</td>\n",
       "      <td>N</td>\n",
       "      <td>0.0</td>\n",
       "      <td>Up</td>\n",
       "      <td>0</td>\n",
       "    </tr>\n",
       "  </tbody>\n",
       "</table>\n",
       "</div>"
      ],
      "text/plain": [
       "   Age Sex ChestPainType  RestingBP  Cholesterol  FastingBS RestingECG  MaxHR  \\\n",
       "0   40   M           ATA        140          289          0     Normal    172   \n",
       "1   49   F           NAP        160          180          0     Normal    156   \n",
       "2   37   M           ATA        130          283          0         ST     98   \n",
       "3   48   F           ASY        138          214          0     Normal    108   \n",
       "4   54   M           NAP        150          195          0     Normal    122   \n",
       "\n",
       "  ExerciseAngina  Oldpeak ST_Slope  HeartDisease  \n",
       "0              N      0.0       Up             0  \n",
       "1              N      1.0     Flat             1  \n",
       "2              N      0.0       Up             0  \n",
       "3              Y      1.5     Flat             1  \n",
       "4              N      0.0       Up             0  "
      ]
     },
     "execution_count": 5,
     "metadata": {},
     "output_type": "execute_result"
    }
   ],
   "source": [
    "# load data\n",
    "heart=pd.read_csv(\"C://Users//rashi//OneDrive//Desktop//USC//Python//ML_tutorial//heart.csv\",header=0)\n",
    "heart.head()"
   ]
  },
  {
   "cell_type": "code",
   "execution_count": 6,
   "id": "078095a2",
   "metadata": {},
   "outputs": [],
   "source": [
    "sex_M=len(heart[(heart.HeartDisease==1) & (heart.Sex=='M')])\n",
    "sex_F=len(heart[(heart.HeartDisease==1) & (heart.Sex=='M')])"
   ]
  },
  {
   "cell_type": "code",
   "execution_count": 44,
   "id": "0838bcc5",
   "metadata": {},
   "outputs": [
    {
     "data": {
      "text/plain": [
       "<AxesSubplot:>"
      ]
     },
     "execution_count": 44,
     "metadata": {},
     "output_type": "execute_result"
    },
    {
     "data": {
      "image/png": "[encoded data removed]",
      "text/plain": [
       "<Figure size 432x288 with 2 Axes>"
      ]
     },
     "metadata": {
      "needs_background": "light"
     },
     "output_type": "display_data"
    }
   ],
   "source": [
    "# corr\n",
    "sn.heatmap(heart.corr(),annot=True)\n",
    "\n",
    "# most contributing factors to Target=HeartDisease are: OldPeak>Age>FastingBS>RestingBP"
   ]
  },
  {
   "cell_type": "code",
   "execution_count": 6,
   "id": "875277cd",
   "metadata": {},
   "outputs": [
    {
     "data": {
      "text/plain": [
       "<matplotlib.collections.PathCollection at 0x2206468dac0>"
      ]
     },
     "execution_count": 6,
     "metadata": {},
     "output_type": "execute_result"
    },
    {
     "data": {
      "image/png": "[encoded data removed]",
      "text/plain": [
       "<Figure size 432x288 with 1 Axes>"
      ]
     },
     "metadata": {
      "needs_background": "light"
     },
     "output_type": "display_data"
    }
   ],
   "source": [
    "# \n",
    "\n",
    "plt.scatter(heart.HeartDisease,heart.RestingBP,color='r')"
   ]
  },
  {
   "cell_type": "code",
   "execution_count": 45,
   "id": "6fc17fb7",
   "metadata": {},
   "outputs": [
    {
     "data": {
      "text/html": [
       "<div>\n",
       "<style scoped>\n",
       "    .dataframe tbody tr th:only-of-type {\n",
       "        vertical-align: middle;\n",
       "    }\n",
       "\n",
       "    .dataframe tbody tr th {\n",
       "        vertical-align: top;\n",
       "    }\n",
       "\n",
       "    .dataframe thead th {\n",
       "        text-align: right;\n",
       "    }\n",
       "</style>\n",
       "<table border=\"1\" class=\"dataframe\">\n",
       "  <thead>\n",
       "    <tr style=\"text-align: right;\">\n",
       "      <th></th>\n",
       "      <th>Age</th>\n",
       "      <th>RestingBP</th>\n",
       "      <th>Cholesterol</th>\n",
       "      <th>MaxHR</th>\n",
       "      <th>Oldpeak</th>\n",
       "      <th>Sex_F</th>\n",
       "      <th>Sex_M</th>\n",
       "      <th>ChestPainType_ASY</th>\n",
       "      <th>ChestPainType_ATA</th>\n",
       "      <th>ChestPainType_NAP</th>\n",
       "      <th>...</th>\n",
       "      <th>RestingECG_LVH</th>\n",
       "      <th>RestingECG_Normal</th>\n",
       "      <th>RestingECG_ST</th>\n",
       "      <th>ST_Slope_Down</th>\n",
       "      <th>ST_Slope_Flat</th>\n",
       "      <th>ST_Slope_Up</th>\n",
       "      <th>ExerciseAngina_N</th>\n",
       "      <th>ExerciseAngina_Y</th>\n",
       "      <th>FastingBS_0</th>\n",
       "      <th>FastingBS_1</th>\n",
       "    </tr>\n",
       "  </thead>\n",
       "  <tbody>\n",
       "    <tr>\n",
       "      <th>0</th>\n",
       "      <td>40</td>\n",
       "      <td>140</td>\n",
       "      <td>289</td>\n",
       "      <td>172</td>\n",
       "      <td>0.0</td>\n",
       "      <td>0</td>\n",
       "      <td>1</td>\n",
       "      <td>0</td>\n",
       "      <td>1</td>\n",
       "      <td>0</td>\n",
       "      <td>...</td>\n",
       "      <td>0</td>\n",
       "      <td>1</td>\n",
       "      <td>0</td>\n",
       "      <td>0</td>\n",
       "      <td>0</td>\n",
       "      <td>1</td>\n",
       "      <td>1</td>\n",
       "      <td>0</td>\n",
       "      <td>1</td>\n",
       "      <td>0</td>\n",
       "    </tr>\n",
       "    <tr>\n",
       "      <th>1</th>\n",
       "      <td>49</td>\n",
       "      <td>160</td>\n",
       "      <td>180</td>\n",
       "      <td>156</td>\n",
       "      <td>1.0</td>\n",
       "      <td>1</td>\n",
       "      <td>0</td>\n",
       "      <td>0</td>\n",
       "      <td>0</td>\n",
       "      <td>1</td>\n",
       "      <td>...</td>\n",
       "      <td>0</td>\n",
       "      <td>1</td>\n",
       "      <td>0</td>\n",
       "      <td>0</td>\n",
       "      <td>1</td>\n",
       "      <td>0</td>\n",
       "      <td>1</td>\n",
       "      <td>0</td>\n",
       "      <td>1</td>\n",
       "      <td>0</td>\n",
       "    </tr>\n",
       "    <tr>\n",
       "      <th>2</th>\n",
       "      <td>37</td>\n",
       "      <td>130</td>\n",
       "      <td>283</td>\n",
       "      <td>98</td>\n",
       "      <td>0.0</td>\n",
       "      <td>0</td>\n",
       "      <td>1</td>\n",
       "      <td>0</td>\n",
       "      <td>1</td>\n",
       "      <td>0</td>\n",
       "      <td>...</td>\n",
       "      <td>0</td>\n",
       "      <td>0</td>\n",
       "      <td>1</td>\n",
       "      <td>0</td>\n",
       "      <td>0</td>\n",
       "      <td>1</td>\n",
       "      <td>1</td>\n",
       "      <td>0</td>\n",
       "      <td>1</td>\n",
       "      <td>0</td>\n",
       "    </tr>\n",
       "    <tr>\n",
       "      <th>3</th>\n",
       "      <td>48</td>\n",
       "      <td>138</td>\n",
       "      <td>214</td>\n",
       "      <td>108</td>\n",
       "      <td>1.5</td>\n",
       "      <td>1</td>\n",
       "      <td>0</td>\n",
       "      <td>1</td>\n",
       "      <td>0</td>\n",
       "      <td>0</td>\n",
       "      <td>...</td>\n",
       "      <td>0</td>\n",
       "      <td>1</td>\n",
       "      <td>0</td>\n",
       "      <td>0</td>\n",
       "      <td>1</td>\n",
       "      <td>0</td>\n",
       "      <td>0</td>\n",
       "      <td>1</td>\n",
       "      <td>1</td>\n",
       "      <td>0</td>\n",
       "    </tr>\n",
       "    <tr>\n",
       "      <th>4</th>\n",
       "      <td>54</td>\n",
       "      <td>150</td>\n",
       "      <td>195</td>\n",
       "      <td>122</td>\n",
       "      <td>0.0</td>\n",
       "      <td>0</td>\n",
       "      <td>1</td>\n",
       "      <td>0</td>\n",
       "      <td>0</td>\n",
       "      <td>1</td>\n",
       "      <td>...</td>\n",
       "      <td>0</td>\n",
       "      <td>1</td>\n",
       "      <td>0</td>\n",
       "      <td>0</td>\n",
       "      <td>0</td>\n",
       "      <td>1</td>\n",
       "      <td>1</td>\n",
       "      <td>0</td>\n",
       "      <td>1</td>\n",
       "      <td>0</td>\n",
       "    </tr>\n",
       "    <tr>\n",
       "      <th>...</th>\n",
       "      <td>...</td>\n",
       "      <td>...</td>\n",
       "      <td>...</td>\n",
       "      <td>...</td>\n",
       "      <td>...</td>\n",
       "      <td>...</td>\n",
       "      <td>...</td>\n",
       "      <td>...</td>\n",
       "      <td>...</td>\n",
       "      <td>...</td>\n",
       "      <td>...</td>\n",
       "      <td>...</td>\n",
       "      <td>...</td>\n",
       "      <td>...</td>\n",
       "      <td>...</td>\n",
       "      <td>...</td>\n",
       "      <td>...</td>\n",
       "      <td>...</td>\n",
       "      <td>...</td>\n",
       "      <td>...</td>\n",
       "      <td>...</td>\n",
       "    </tr>\n",
       "    <tr>\n",
       "      <th>913</th>\n",
       "      <td>45</td>\n",
       "      <td>110</td>\n",
       "      <td>264</td>\n",
       "      <td>132</td>\n",
       "      <td>1.2</td>\n",
       "      <td>0</td>\n",
       "      <td>1</td>\n",
       "      <td>0</td>\n",
       "      <td>0</td>\n",
       "      <td>0</td>\n",
       "      <td>...</td>\n",
       "      <td>0</td>\n",
       "      <td>1</td>\n",
       "      <td>0</td>\n",
       "      <td>0</td>\n",
       "      <td>1</td>\n",
       "      <td>0</td>\n",
       "      <td>1</td>\n",
       "      <td>0</td>\n",
       "      <td>1</td>\n",
       "      <td>0</td>\n",
       "    </tr>\n",
       "    <tr>\n",
       "      <th>914</th>\n",
       "      <td>68</td>\n",
       "      <td>144</td>\n",
       "      <td>193</td>\n",
       "      <td>141</td>\n",
       "      <td>3.4</td>\n",
       "      <td>0</td>\n",
       "      <td>1</td>\n",
       "      <td>1</td>\n",
       "      <td>0</td>\n",
       "      <td>0</td>\n",
       "      <td>...</td>\n",
       "      <td>0</td>\n",
       "      <td>1</td>\n",
       "      <td>0</td>\n",
       "      <td>0</td>\n",
       "      <td>1</td>\n",
       "      <td>0</td>\n",
       "      <td>1</td>\n",
       "      <td>0</td>\n",
       "      <td>0</td>\n",
       "      <td>1</td>\n",
       "    </tr>\n",
       "    <tr>\n",
       "      <th>915</th>\n",
       "      <td>57</td>\n",
       "      <td>130</td>\n",
       "      <td>131</td>\n",
       "      <td>115</td>\n",
       "      <td>1.2</td>\n",
       "      <td>0</td>\n",
       "      <td>1</td>\n",
       "      <td>1</td>\n",
       "      <td>0</td>\n",
       "      <td>0</td>\n",
       "      <td>...</td>\n",
       "      <td>0</td>\n",
       "      <td>1</td>\n",
       "      <td>0</td>\n",
       "      <td>0</td>\n",
       "      <td>1</td>\n",
       "      <td>0</td>\n",
       "      <td>0</td>\n",
       "      <td>1</td>\n",
       "      <td>1</td>\n",
       "      <td>0</td>\n",
       "    </tr>\n",
       "    <tr>\n",
       "      <th>916</th>\n",
       "      <td>57</td>\n",
       "      <td>130</td>\n",
       "      <td>236</td>\n",
       "      <td>174</td>\n",
       "      <td>0.0</td>\n",
       "      <td>1</td>\n",
       "      <td>0</td>\n",
       "      <td>0</td>\n",
       "      <td>1</td>\n",
       "      <td>0</td>\n",
       "      <td>...</td>\n",
       "      <td>1</td>\n",
       "      <td>0</td>\n",
       "      <td>0</td>\n",
       "      <td>0</td>\n",
       "      <td>1</td>\n",
       "      <td>0</td>\n",
       "      <td>1</td>\n",
       "      <td>0</td>\n",
       "      <td>1</td>\n",
       "      <td>0</td>\n",
       "    </tr>\n",
       "    <tr>\n",
       "      <th>917</th>\n",
       "      <td>38</td>\n",
       "      <td>138</td>\n",
       "      <td>175</td>\n",
       "      <td>173</td>\n",
       "      <td>0.0</td>\n",
       "      <td>0</td>\n",
       "      <td>1</td>\n",
       "      <td>0</td>\n",
       "      <td>0</td>\n",
       "      <td>1</td>\n",
       "      <td>...</td>\n",
       "      <td>0</td>\n",
       "      <td>1</td>\n",
       "      <td>0</td>\n",
       "      <td>0</td>\n",
       "      <td>0</td>\n",
       "      <td>1</td>\n",
       "      <td>1</td>\n",
       "      <td>0</td>\n",
       "      <td>1</td>\n",
       "      <td>0</td>\n",
       "    </tr>\n",
       "  </tbody>\n",
       "</table>\n",
       "<p>918 rows × 21 columns</p>\n",
       "</div>"
      ],
      "text/plain": [
       "     Age  RestingBP  Cholesterol  MaxHR  Oldpeak  Sex_F  Sex_M  \\\n",
       "0     40        140          289    172      0.0      0      1   \n",
       "1     49        160          180    156      1.0      1      0   \n",
       "2     37        130          283     98      0.0      0      1   \n",
       "3     48        138          214    108      1.5      1      0   \n",
       "4     54        150          195    122      0.0      0      1   \n",
       "..   ...        ...          ...    ...      ...    ...    ...   \n",
       "913   45        110          264    132      1.2      0      1   \n",
       "914   68        144          193    141      3.4      0      1   \n",
       "915   57        130          131    115      1.2      0      1   \n",
       "916   57        130          236    174      0.0      1      0   \n",
       "917   38        138          175    173      0.0      0      1   \n",
       "\n",
       "     ChestPainType_ASY  ChestPainType_ATA  ChestPainType_NAP  ...  \\\n",
       "0                    0                  1                  0  ...   \n",
       "1                    0                  0                  1  ...   \n",
       "2                    0                  1                  0  ...   \n",
       "3                    1                  0                  0  ...   \n",
       "4                    0                  0                  1  ...   \n",
       "..                 ...                ...                ...  ...   \n",
       "913                  0                  0                  0  ...   \n",
       "914                  1                  0                  0  ...   \n",
       "915                  1                  0                  0  ...   \n",
       "916                  0                  1                  0  ...   \n",
       "917                  0                  0                  1  ...   \n",
       "\n",
       "     RestingECG_LVH  RestingECG_Normal  RestingECG_ST  ST_Slope_Down  \\\n",
       "0                 0                  1              0              0   \n",
       "1                 0                  1              0              0   \n",
       "2                 0                  0              1              0   \n",
       "3                 0                  1              0              0   \n",
       "4                 0                  1              0              0   \n",
       "..              ...                ...            ...            ...   \n",
       "913               0                  1              0              0   \n",
       "914               0                  1              0              0   \n",
       "915               0                  1              0              0   \n",
       "916               1                  0              0              0   \n",
       "917               0                  1              0              0   \n",
       "\n",
       "     ST_Slope_Flat  ST_Slope_Up  ExerciseAngina_N  ExerciseAngina_Y  \\\n",
       "0                0            1                 1                 0   \n",
       "1                1            0                 1                 0   \n",
       "2                0            1                 1                 0   \n",
       "3                1            0                 0                 1   \n",
       "4                0            1                 1                 0   \n",
       "..             ...          ...               ...               ...   \n",
       "913              1            0                 1                 0   \n",
       "914              1            0                 1                 0   \n",
       "915              1            0                 0                 1   \n",
       "916              1            0                 1                 0   \n",
       "917              0            1                 1                 0   \n",
       "\n",
       "     FastingBS_0  FastingBS_1  \n",
       "0              1            0  \n",
       "1              1            0  \n",
       "2              1            0  \n",
       "3              1            0  \n",
       "4              1            0  \n",
       "..           ...          ...  \n",
       "913            1            0  \n",
       "914            0            1  \n",
       "915            1            0  \n",
       "916            1            0  \n",
       "917            1            0  \n",
       "\n",
       "[918 rows x 21 columns]"
      ]
     },
     "execution_count": 45,
     "metadata": {},
     "output_type": "execute_result"
    }
   ],
   "source": [
    "\n",
    "\n",
    "dummies_data=pd.get_dummies(data=heart,columns=['Sex','ChestPainType','RestingECG','ST_Slope','ExerciseAngina','FastingBS'])\n",
    "dummies_data\n",
    "\n",
    "y=dummies_data['HeartDisease']\n",
    "X=dummies_data.drop(['HeartDisease'],axis='columns')\n",
    "y\n",
    "X"
   ]
  },
  {
   "cell_type": "code",
   "execution_count": 56,
   "id": "aea2fb74",
   "metadata": {},
   "outputs": [
    {
     "data": {
      "text/plain": [
       "900    1\n",
       "570    1\n",
       "791    1\n",
       "189    1\n",
       "372    1\n",
       "      ..\n",
       "66     0\n",
       "395    1\n",
       "355    1\n",
       "277    1\n",
       "604    0\n",
       "Name: HeartDisease, Length: 276, dtype: int64"
      ]
     },
     "execution_count": 56,
     "metadata": {},
     "output_type": "execute_result"
    }
   ],
   "source": [
    "# split data\n",
    "from sklearn.model_selection import train_test_split\n",
    "# test data is 30% of total dataset\n",
    "X_train, X_test, y_train, y_test = train_test_split(X,y,test_size=0.3,random_state=1)\n",
    "\n",
    "y_test"
   ]
  },
  {
   "cell_type": "code",
   "execution_count": 57,
   "id": "1d523020",
   "metadata": {},
   "outputs": [
    {
     "name": "stderr",
     "output_type": "stream",
     "text": [
      "C:\\Users\\rashi\\anaconda3\\lib\\site-packages\\sklearn\\linear_model\\_logistic.py:763: ConvergenceWarning: lbfgs failed to converge (status=1):\n",
      "STOP: TOTAL NO. of ITERATIONS REACHED LIMIT.\n",
      "\n",
      "Increase the number of iterations (max_iter) or scale the data as shown in:\n",
      "    https://scikit-learn.org/stable/modules/preprocessing.html\n",
      "Please also refer to the documentation for alternative solver options:\n",
      "    https://scikit-learn.org/stable/modules/linear_model.html#logistic-regression\n",
      "  n_iter_i = _check_optimize_result(\n"
     ]
    },
    {
     "data": {
      "text/plain": [
       "LogisticRegression()"
      ]
     },
     "execution_count": 57,
     "metadata": {},
     "output_type": "execute_result"
    }
   ],
   "source": [
    "# USING LOGISTIC REGRESSION\n",
    "\n",
    "# Train model\n",
    "# model fit Logistic regression\n",
    "from sklearn.linear_model import LogisticRegression\n",
    "heart_mdl= LogisticRegression()\n",
    "\n",
    "# Train the model \n",
    "heart_mdl.fit(X_train,y_train)"
   ]
  },
  {
   "cell_type": "code",
   "execution_count": 58,
   "id": "3fcadeb1",
   "metadata": {},
   "outputs": [
    {
     "name": "stdout",
     "output_type": "stream",
     "text": [
      "The accuracy obtained using Logistic Regression model: 88.77%\n"
     ]
    }
   ],
   "source": [
    "# prediction\n",
    "\n",
    "y_pred=heart_mdl.predict(X_test)\n",
    "\n",
    "acc=heart_mdl.score(X_test,y_test)\n",
    "print(f'The accuracy obtained using Logistic Regression model: {round(acc*100,2)}%')\n"
   ]
  },
  {
   "cell_type": "code",
   "execution_count": 59,
   "id": "493893dd",
   "metadata": {},
   "outputs": [
    {
     "data": {
      "image/png": "[encoded data removed]",
      "text/plain": [
       "<Figure size 1080x576 with 2 Axes>"
      ]
     },
     "metadata": {
      "needs_background": "light"
     },
     "output_type": "display_data"
    }
   ],
   "source": [
    "# Confusion matrix\n",
    "from sklearn.metrics import confusion_matrix\n",
    "\n",
    "cm=confusion_matrix(y_test,y_pred)\n",
    "cm\n",
    "\n",
    "# heatmap\n",
    "import seaborn as sn\n",
    "\n",
    "plt.figure(figsize=(15,8))\n",
    "ax= plt.subplot()\n",
    "\n",
    "sn.heatmap(cm,annot=True,fmt='g',ax=ax)\n",
    "\n",
    "# labels\n",
    "ax.set_xlabel('Predicted labels');ax.set_ylabel('True labels'); \n",
    "ax.set_title('Confusion Matrix'); \n",
    "ax.xaxis.set_ticklabels(['No Disease', 'Disease']); ax.yaxis.set_ticklabels(['No Disease', 'Disease']);"
   ]
  },
  {
   "cell_type": "markdown",
   "id": "f03a9a16",
   "metadata": {},
   "source": [
    "# K Means Clustering (Unsupervised Clustering Algorithm)"
   ]
  },
  {
   "cell_type": "code",
   "execution_count": 8,
   "id": "9bd1600e",
   "metadata": {},
   "outputs": [
    {
     "data": {
      "text/plain": [
       "array([0, 0, 0, 0, 1, 0, 0, 1, 0, 0, 0, 0, 0, 0, 1, 0, 0, 0, 0, 0, 0, 0,\n",
       "       1, 0, 0, 0, 0, 0, 0, 0, 0, 0, 0, 0, 1, 1, 0, 0, 0, 0, 0, 1, 0, 0,\n",
       "       0, 0, 0, 1, 0, 1, 0, 0, 1, 0, 1, 0, 0, 0, 0, 0, 1, 0, 0, 0, 0, 0,\n",
       "       0, 0, 0, 1, 1, 0, 1, 0, 0, 0, 0, 0, 0, 0, 0, 0, 0, 0, 0, 0, 0, 0,\n",
       "       0, 0, 0, 0, 0, 1, 0, 0, 0, 1, 0, 0, 0, 0, 0, 0, 0, 0, 0, 0, 0, 0,\n",
       "       0, 1, 0, 0, 0, 0, 0, 0, 0, 0, 1, 0, 0, 0, 1, 0, 0, 0, 0, 1, 0, 1,\n",
       "       0, 0, 1, 0, 0, 0, 0, 0, 1, 0, 0, 1, 0, 0, 1, 0, 0, 0, 0, 0, 0, 0,\n",
       "       0, 0, 0, 0, 0, 0, 1, 1, 0, 1, 1, 0, 0, 0, 0, 0, 0, 0, 0, 0, 0, 0,\n",
       "       0, 0, 0, 0, 0, 0, 0, 0, 0, 0, 0, 0, 0, 0, 0, 0, 0, 0, 0, 0, 0, 0,\n",
       "       1, 1, 1, 1, 1, 0, 0, 0, 0, 1, 0, 0, 0, 0, 0, 0, 0, 0, 0, 0, 0, 0,\n",
       "       0, 0, 0, 1, 1, 0, 0, 0, 1, 0, 0, 0, 0, 0, 0, 0, 1, 0, 0, 1, 1, 0,\n",
       "       1, 0, 1, 0, 1, 0, 0, 0, 0, 0, 0, 0, 0, 0, 0, 0, 0, 0, 0, 0, 1, 0,\n",
       "       0, 0, 0, 0, 0, 0, 1, 0, 1, 1, 0, 0])"
      ]
     },
     "execution_count": 8,
     "metadata": {},
     "output_type": "execute_result"
    }
   ],
   "source": [
    "from sklearn.cluster import KMeans\n",
    "\n",
    "km=KMeans(n_clusters=2)\n",
    "\n",
    "# fit \n",
    "km.fit(X_train)\n",
    "\n",
    "# predict\n",
    "y_pred_km=km.predict(X_test)\n",
    "y_pred_km\n"
   ]
  },
  {
   "cell_type": "code",
   "execution_count": 18,
   "id": "a33988b6",
   "metadata": {},
   "outputs": [
    {
     "name": "stdout",
     "output_type": "stream",
     "text": [
      "[2568977.990170448, 1509743.037317231, 1116504.5009309626, 930965.7603807871, 819063.7471314351, 713850.2997607341, 655772.3467352511, 603744.088706945, 556340.5502175491]\n"
     ]
    },
    {
     "data": {
      "text/plain": [
       "[<matplotlib.lines.Line2D at 0x1689efcf9d0>]"
      ]
     },
     "execution_count": 18,
     "metadata": {},
     "output_type": "execute_result"
    },
    {
     "data": {
      "image/png": "[encoded data removed]",
      "text/plain": [
       "<Figure size 720x432 with 1 Axes>"
      ]
     },
     "metadata": {
      "needs_background": "light"
     },
     "output_type": "display_data"
    }
   ],
   "source": [
    "# ELBOW TECHNIQUE TO FIND BEST K VALUE (VALUE CORREPODING TO ELBOW IN THE PLOT(K VS SSE) IS THE BEST K VALUE\n",
    "\n",
    "sse=[]\n",
    "k=range(2,11)\n",
    "for i in range(2,11):\n",
    "    km_t=KMeans(n_clusters=i)\n",
    "    km_t.fit(X_train)\n",
    "    sse_temp=km_t.inertia_\n",
    "    sse.append(sse_temp)\n",
    "\n",
    "print(sse)\n",
    "\n",
    "# plot elbow \n",
    "plt.figure(figsize=(10,6))\n",
    "plt.plot(k,sse)\n",
    "\n",
    "# Best k value at the elbow (i.e. k=3 here)\n",
    "#plt.scatter(3,sse[2],color='r',marker='o')"
   ]
  },
  {
   "cell_type": "code",
   "execution_count": 18,
   "id": "7296e173",
   "metadata": {},
   "outputs": [
    {
     "name": "stdout",
     "output_type": "stream",
     "text": [
      "Model name:<class 'sklearn.linear_model._logistic.LogisticRegression'> with accuracy of: 85.5072463768116\n",
      "Model name:<class 'sklearn.svm._classes.SVC'> with accuracy of: 71.01449275362319\n",
      "[0.855072463768116, 0.7101449275362319]\n"
     ]
    },
    {
     "name": "stderr",
     "output_type": "stream",
     "text": [
      "C:\\Users\\rashi\\anaconda3\\lib\\site-packages\\sklearn\\linear_model\\_logistic.py:763: ConvergenceWarning: lbfgs failed to converge (status=1):\n",
      "STOP: TOTAL NO. of ITERATIONS REACHED LIMIT.\n",
      "\n",
      "Increase the number of iterations (max_iter) or scale the data as shown in:\n",
      "    https://scikit-learn.org/stable/modules/preprocessing.html\n",
      "Please also refer to the documentation for alternative solver options:\n",
      "    https://scikit-learn.org/stable/modules/linear_model.html#logistic-regression\n",
      "  n_iter_i = _check_optimize_result(\n"
     ]
    }
   ],
   "source": [
    "# Multiple Models Run\n",
    "\n",
    "from sklearn.svm import SVC\n",
    "\n",
    "models=[LogisticRegression,SVC]\n",
    "acc=[]\n",
    "\n",
    "for i in range(len(models)):\n",
    "    model=models[i]()\n",
    "    model.fit(X_train,y_train)\n",
    "    score=model.score(X_test,y_test)\n",
    "    acc.append(score)\n",
    "    print(f\"Model name:{models[i]} with accuracy of: {score*100}\")\n",
    "    \n",
    "print(acc)"
   ]
  },
  {
   "cell_type": "markdown",
   "id": "54dc7d5a",
   "metadata": {},
   "source": [
    "# Principle Component Analysis (PCA): Dimensionality Reduction "
   ]
  },
  {
   "cell_type": "code",
   "execution_count": 46,
   "id": "af30dd75",
   "metadata": {},
   "outputs": [
    {
     "data": {
      "text/plain": [
       "array([[-1.4331398 ,  0.41090889,  0.82507026, ..., -0.8235563 ,\n",
       "         0.55134134, -0.55134134],\n",
       "       [-0.47848359,  1.49175234, -0.17196105, ..., -0.8235563 ,\n",
       "         0.55134134, -0.55134134],\n",
       "       [-1.75135854, -0.12951283,  0.7701878 , ..., -0.8235563 ,\n",
       "         0.55134134, -0.55134134],\n",
       "       ...,\n",
       "       [ 0.37009972, -0.12951283, -0.62016778, ...,  1.21424608,\n",
       "         0.55134134, -0.55134134],\n",
       "       [ 0.37009972, -0.12951283,  0.34027522, ..., -0.8235563 ,\n",
       "         0.55134134, -0.55134134],\n",
       "       [-1.64528563,  0.30282455, -0.21769643, ..., -0.8235563 ,\n",
       "         0.55134134, -0.55134134]])"
      ]
     },
     "execution_count": 46,
     "metadata": {},
     "output_type": "execute_result"
    }
   ],
   "source": [
    "from sklearn.preprocessing import StandardScaler\n",
    "\n",
    "sc=StandardScaler()\n",
    "\n",
    "X_sc=sc.fit_transform(X)\n",
    "\n",
    "X_sc"
   ]
  },
  {
   "cell_type": "code",
   "execution_count": 53,
   "id": "e0708482",
   "metadata": {},
   "outputs": [
    {
     "data": {
      "text/plain": [
       "(918, 13)"
      ]
     },
     "execution_count": 53,
     "metadata": {},
     "output_type": "execute_result"
    }
   ],
   "source": [
    "from sklearn.decomposition import PCA\n",
    "\n",
    "pca=PCA(0.95)\n",
    "\n",
    "X_pca=pca.fit_transform(X_sc)\n",
    "\n",
    "np.shape(X_pca)"
   ]
  },
  {
   "cell_type": "code",
   "execution_count": 54,
   "id": "8607b973",
   "metadata": {},
   "outputs": [
    {
     "data": {
      "text/plain": [
       "array([[-1.32945212e+00, -2.23307029e-01,  9.91312947e-01, ...,\n",
       "        -1.70623765e+00, -2.68686112e+00, -1.22491352e+00],\n",
       "       [-2.54943866e+00, -5.56034409e-01,  4.00362009e-01, ...,\n",
       "        -5.13470423e-01, -5.32758073e-01, -3.75768915e-01],\n",
       "       [-2.62447874e+00, -2.22817216e+00, -1.10510671e+00, ...,\n",
       "        -2.55320580e-03, -1.05213625e+00, -2.69369280e-01],\n",
       "       ...,\n",
       "       [-2.75710828e-01,  7.56423673e-01,  1.63275008e+00, ...,\n",
       "         5.00233997e-01,  2.43138203e+00,  1.12348565e+00],\n",
       "       [-2.19346522e+00, -1.65660352e+00, -1.14097413e+00, ...,\n",
       "         5.66409496e-01, -7.15660439e-01,  9.66069704e-01],\n",
       "       [-2.90192892e-01,  2.03456639e+00, -2.68941620e-02, ...,\n",
       "         1.41578932e+00,  9.75336748e-01, -1.40569229e+00]])"
      ]
     },
     "execution_count": 54,
     "metadata": {},
     "output_type": "execute_result"
    }
   ],
   "source": [
    "# split data\n",
    "from sklearn.model_selection import train_test_split\n",
    "# test data is 30% of total dataset\n",
    "X_train_pca, X_test_pca, y_train, y_test = train_test_split(X_pca,y,test_size=0.3,random_state=1)\n",
    "\n",
    "X_test_pca"
   ]
  },
  {
   "cell_type": "code",
   "execution_count": 55,
   "id": "c8fdfc0a",
   "metadata": {},
   "outputs": [
    {
     "data": {
      "text/plain": [
       "0.8659420289855072"
      ]
     },
     "execution_count": 55,
     "metadata": {},
     "output_type": "execute_result"
    }
   ],
   "source": [
    "# USING LOGISTIC REGRESSION\n",
    "\n",
    "# Train model\n",
    "# model fit Logistic regression\n",
    "from sklearn.linear_model import LogisticRegression\n",
    "mdl= LogisticRegression()\n",
    "\n",
    "# Train the model \n",
    "mdl.fit(X_train_pca,y_train)\n",
    "\n",
    "# \n",
    "mdl.score(X_test_pca,y_test)"
   ]
  }
 ],
 "metadata": {
  "kernelspec": {
   "display_name": "Python 3 (ipykernel)",
   "language": "python",
   "name": "python3"
  },
  "language_info": {
   "codemirror_mode": {
    "name": "ipython",
    "version": 3
   },
   "file_extension": ".py",
   "mimetype": "text/x-python",
   "name": "python",
   "nbconvert_exporter": "python",
   "pygments_lexer": "ipython3",
   "version": "3.9.7"
  }
 },
 "nbformat": 4,
 "nbformat_minor": 5
}

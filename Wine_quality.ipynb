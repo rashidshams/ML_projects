{
 "cells": [
  {
   "cell_type": "markdown",
   "id": "d56e4b65",
   "metadata": {},
   "source": [
    "# Wine Quality Dataset"
   ]
  },
  {
   "cell_type": "code",
   "execution_count": 1,
   "id": "2d5fe18d",
   "metadata": {},
   "outputs": [],
   "source": [
    "import pandas as pd\n",
    "import numpy as np\n",
    "import seaborn as sn\n",
    "import matplotlib.pyplot as plt \n",
    "import warnings\n",
    "warnings.filterwarnings(\"ignore\")"
   ]
  },
  {
   "cell_type": "code",
   "execution_count": 2,
   "id": "41733d4b",
   "metadata": {},
   "outputs": [],
   "source": [
    "from sklearn import datasets\n",
    "wine = datasets.load_wine()"
   ]
  },
  {
   "cell_type": "code",
   "execution_count": 3,
   "id": "3d98d617",
   "metadata": {},
   "outputs": [
    {
     "data": {
      "text/html": [
       "<div>\n",
       "<style scoped>\n",
       "    .dataframe tbody tr th:only-of-type {\n",
       "        vertical-align: middle;\n",
       "    }\n",
       "\n",
       "    .dataframe tbody tr th {\n",
       "        vertical-align: top;\n",
       "    }\n",
       "\n",
       "    .dataframe thead th {\n",
       "        text-align: right;\n",
       "    }\n",
       "</style>\n",
       "<table border=\"1\" class=\"dataframe\">\n",
       "  <thead>\n",
       "    <tr style=\"text-align: right;\">\n",
       "      <th></th>\n",
       "      <th>0</th>\n",
       "    </tr>\n",
       "  </thead>\n",
       "  <tbody>\n",
       "    <tr>\n",
       "      <th>0</th>\n",
       "      <td>0</td>\n",
       "    </tr>\n",
       "    <tr>\n",
       "      <th>1</th>\n",
       "      <td>0</td>\n",
       "    </tr>\n",
       "    <tr>\n",
       "      <th>2</th>\n",
       "      <td>0</td>\n",
       "    </tr>\n",
       "    <tr>\n",
       "      <th>3</th>\n",
       "      <td>0</td>\n",
       "    </tr>\n",
       "    <tr>\n",
       "      <th>4</th>\n",
       "      <td>0</td>\n",
       "    </tr>\n",
       "    <tr>\n",
       "      <th>...</th>\n",
       "      <td>...</td>\n",
       "    </tr>\n",
       "    <tr>\n",
       "      <th>173</th>\n",
       "      <td>2</td>\n",
       "    </tr>\n",
       "    <tr>\n",
       "      <th>174</th>\n",
       "      <td>2</td>\n",
       "    </tr>\n",
       "    <tr>\n",
       "      <th>175</th>\n",
       "      <td>2</td>\n",
       "    </tr>\n",
       "    <tr>\n",
       "      <th>176</th>\n",
       "      <td>2</td>\n",
       "    </tr>\n",
       "    <tr>\n",
       "      <th>177</th>\n",
       "      <td>2</td>\n",
       "    </tr>\n",
       "  </tbody>\n",
       "</table>\n",
       "<p>178 rows × 1 columns</p>\n",
       "</div>"
      ],
      "text/plain": [
       "     0\n",
       "0    0\n",
       "1    0\n",
       "2    0\n",
       "3    0\n",
       "4    0\n",
       "..  ..\n",
       "173  2\n",
       "174  2\n",
       "175  2\n",
       "176  2\n",
       "177  2\n",
       "\n",
       "[178 rows x 1 columns]"
      ]
     },
     "execution_count": 3,
     "metadata": {},
     "output_type": "execute_result"
    }
   ],
   "source": [
    "import pandas as pd\n",
    "df = pd.DataFrame(wine.data,columns=wine.feature_names)\n",
    "df.head()\n",
    "\n",
    "df_out=pd.DataFrame(wine.target)\n",
    "df_out"
   ]
  },
  {
   "cell_type": "code",
   "execution_count": 27,
   "id": "9f652c8c",
   "metadata": {},
   "outputs": [
    {
     "data": {
      "text/plain": [
       "array([0, 1, 2])"
      ]
     },
     "execution_count": 27,
     "metadata": {},
     "output_type": "execute_result"
    }
   ],
   "source": [
    "np.unique(wine.target)"
   ]
  },
  {
   "cell_type": "code",
   "execution_count": 4,
   "id": "15490feb",
   "metadata": {},
   "outputs": [
    {
     "data": {
      "text/plain": [
       "[     alcohol  malic_acid   ash  alcalinity_of_ash  magnesium  total_phenols  \\\n",
       " 0      14.23        1.71  2.43               15.6      127.0           2.80   \n",
       " 1      13.20        1.78  2.14               11.2      100.0           2.65   \n",
       " 2      13.16        2.36  2.67               18.6      101.0           2.80   \n",
       " 3      14.37        1.95  2.50               16.8      113.0           3.85   \n",
       " 4      13.24        2.59  2.87               21.0      118.0           2.80   \n",
       " ..       ...         ...   ...                ...        ...            ...   \n",
       " 173    13.71        5.65  2.45               20.5       95.0           1.68   \n",
       " 174    13.40        3.91  2.48               23.0      102.0           1.80   \n",
       " 175    13.27        4.28  2.26               20.0      120.0           1.59   \n",
       " 176    13.17        2.59  2.37               20.0      120.0           1.65   \n",
       " 177    14.13        4.10  2.74               24.5       96.0           2.05   \n",
       " \n",
       "      flavanoids  nonflavanoid_phenols  proanthocyanins  color_intensity   hue  \\\n",
       " 0          3.06                  0.28             2.29             5.64  1.04   \n",
       " 1          2.76                  0.26             1.28             4.38  1.05   \n",
       " 2          3.24                  0.30             2.81             5.68  1.03   \n",
       " 3          3.49                  0.24             2.18             7.80  0.86   \n",
       " 4          2.69                  0.39             1.82             4.32  1.04   \n",
       " ..          ...                   ...              ...              ...   ...   \n",
       " 173        0.61                  0.52             1.06             7.70  0.64   \n",
       " 174        0.75                  0.43             1.41             7.30  0.70   \n",
       " 175        0.69                  0.43             1.35            10.20  0.59   \n",
       " 176        0.68                  0.53             1.46             9.30  0.60   \n",
       " 177        0.76                  0.56             1.35             9.20  0.61   \n",
       " \n",
       "      od280/od315_of_diluted_wines  proline  \n",
       " 0                            3.92   1065.0  \n",
       " 1                            3.40   1050.0  \n",
       " 2                            3.17   1185.0  \n",
       " 3                            3.45   1480.0  \n",
       " 4                            2.93    735.0  \n",
       " ..                            ...      ...  \n",
       " 173                          1.74    740.0  \n",
       " 174                          1.56    750.0  \n",
       " 175                          1.56    835.0  \n",
       " 176                          1.62    840.0  \n",
       " 177                          1.60    560.0  \n",
       " \n",
       " [178 rows x 13 columns],\n",
       "      0\n",
       " 0    0\n",
       " 1    0\n",
       " 2    0\n",
       " 3    0\n",
       " 4    0\n",
       " ..  ..\n",
       " 173  2\n",
       " 174  2\n",
       " 175  2\n",
       " 176  2\n",
       " 177  2\n",
       " \n",
       " [178 rows x 1 columns]]"
      ]
     },
     "execution_count": 4,
     "metadata": {},
     "output_type": "execute_result"
    }
   ],
   "source": [
    "# target\n",
    "y=wine.target\n",
    "y\n",
    "\n",
    "X=df\n",
    "X\n",
    "\n",
    "wine_full=[df,df_out]\n",
    "wine_full"
   ]
  },
  {
   "cell_type": "code",
   "execution_count": 5,
   "id": "d2f68c06",
   "metadata": {},
   "outputs": [
    {
     "ename": "AttributeError",
     "evalue": "'list' object has no attribute 'corr'",
     "output_type": "error",
     "traceback": [
      "\u001b[1;31m---------------------------------------------------------------------------\u001b[0m",
      "\u001b[1;31mAttributeError\u001b[0m                            Traceback (most recent call last)",
      "\u001b[1;32m~\\AppData\\Local\\Temp/ipykernel_20408/286610217.py\u001b[0m in \u001b[0;36m<module>\u001b[1;34m\u001b[0m\n\u001b[0;32m      1\u001b[0m \u001b[1;31m# Corr plot\u001b[0m\u001b[1;33m\u001b[0m\u001b[1;33m\u001b[0m\u001b[0m\n\u001b[0;32m      2\u001b[0m \u001b[1;33m\u001b[0m\u001b[0m\n\u001b[1;32m----> 3\u001b[1;33m \u001b[0msn\u001b[0m\u001b[1;33m.\u001b[0m\u001b[0mheatmap\u001b[0m\u001b[1;33m(\u001b[0m\u001b[0mwine_full\u001b[0m\u001b[1;33m.\u001b[0m\u001b[0mcorr\u001b[0m\u001b[1;33m(\u001b[0m\u001b[1;33m)\u001b[0m\u001b[1;33m,\u001b[0m \u001b[0mannot\u001b[0m \u001b[1;33m=\u001b[0m \u001b[1;32mTrue\u001b[0m\u001b[1;33m,\u001b[0m \u001b[0mcmap\u001b[0m \u001b[1;33m=\u001b[0m\u001b[1;32mNone\u001b[0m\u001b[1;33m)\u001b[0m\u001b[1;33m\u001b[0m\u001b[1;33m\u001b[0m\u001b[0m\n\u001b[0m",
      "\u001b[1;31mAttributeError\u001b[0m: 'list' object has no attribute 'corr'"
     ]
    }
   ],
   "source": [
    "# Corr plot\n",
    "\n",
    "sn.heatmap(wine_full.corr(), annot = True, cmap =None)"
   ]
  },
  {
   "cell_type": "code",
   "execution_count": 5,
   "id": "2b64fb1e",
   "metadata": {},
   "outputs": [
    {
     "data": {
      "text/html": [
       "<div>\n",
       "<style scoped>\n",
       "    .dataframe tbody tr th:only-of-type {\n",
       "        vertical-align: middle;\n",
       "    }\n",
       "\n",
       "    .dataframe tbody tr th {\n",
       "        vertical-align: top;\n",
       "    }\n",
       "\n",
       "    .dataframe thead th {\n",
       "        text-align: right;\n",
       "    }\n",
       "</style>\n",
       "<table border=\"1\" class=\"dataframe\">\n",
       "  <thead>\n",
       "    <tr style=\"text-align: right;\">\n",
       "      <th></th>\n",
       "      <th>0</th>\n",
       "      <th>1</th>\n",
       "      <th>2</th>\n",
       "    </tr>\n",
       "  </thead>\n",
       "  <tbody>\n",
       "    <tr>\n",
       "      <th>0</th>\n",
       "      <td>1</td>\n",
       "      <td>0</td>\n",
       "      <td>0</td>\n",
       "    </tr>\n",
       "    <tr>\n",
       "      <th>1</th>\n",
       "      <td>1</td>\n",
       "      <td>0</td>\n",
       "      <td>0</td>\n",
       "    </tr>\n",
       "    <tr>\n",
       "      <th>2</th>\n",
       "      <td>1</td>\n",
       "      <td>0</td>\n",
       "      <td>0</td>\n",
       "    </tr>\n",
       "    <tr>\n",
       "      <th>3</th>\n",
       "      <td>1</td>\n",
       "      <td>0</td>\n",
       "      <td>0</td>\n",
       "    </tr>\n",
       "    <tr>\n",
       "      <th>4</th>\n",
       "      <td>1</td>\n",
       "      <td>0</td>\n",
       "      <td>0</td>\n",
       "    </tr>\n",
       "    <tr>\n",
       "      <th>...</th>\n",
       "      <td>...</td>\n",
       "      <td>...</td>\n",
       "      <td>...</td>\n",
       "    </tr>\n",
       "    <tr>\n",
       "      <th>173</th>\n",
       "      <td>0</td>\n",
       "      <td>0</td>\n",
       "      <td>1</td>\n",
       "    </tr>\n",
       "    <tr>\n",
       "      <th>174</th>\n",
       "      <td>0</td>\n",
       "      <td>0</td>\n",
       "      <td>1</td>\n",
       "    </tr>\n",
       "    <tr>\n",
       "      <th>175</th>\n",
       "      <td>0</td>\n",
       "      <td>0</td>\n",
       "      <td>1</td>\n",
       "    </tr>\n",
       "    <tr>\n",
       "      <th>176</th>\n",
       "      <td>0</td>\n",
       "      <td>0</td>\n",
       "      <td>1</td>\n",
       "    </tr>\n",
       "    <tr>\n",
       "      <th>177</th>\n",
       "      <td>0</td>\n",
       "      <td>0</td>\n",
       "      <td>1</td>\n",
       "    </tr>\n",
       "  </tbody>\n",
       "</table>\n",
       "<p>178 rows × 3 columns</p>\n",
       "</div>"
      ],
      "text/plain": [
       "     0  1  2\n",
       "0    1  0  0\n",
       "1    1  0  0\n",
       "2    1  0  0\n",
       "3    1  0  0\n",
       "4    1  0  0\n",
       "..  .. .. ..\n",
       "173  0  0  1\n",
       "174  0  0  1\n",
       "175  0  0  1\n",
       "176  0  0  1\n",
       "177  0  0  1\n",
       "\n",
       "[178 rows x 3 columns]"
      ]
     },
     "execution_count": 5,
     "metadata": {},
     "output_type": "execute_result"
    }
   ],
   "source": [
    "# for ann split lables\n",
    "y_ann=pd.get_dummies(wine.target)\n",
    "y_ann"
   ]
  },
  {
   "cell_type": "code",
   "execution_count": 48,
   "id": "2bfc184c",
   "metadata": {},
   "outputs": [
    {
     "data": {
      "text/plain": [
       "36"
      ]
     },
     "execution_count": 48,
     "metadata": {},
     "output_type": "execute_result"
    }
   ],
   "source": [
    "# test and train data split\n",
    "from sklearn.model_selection import train_test_split\n",
    "X_train_ann, X_test_ann, y_train, y_test = train_test_split(X,y,train_size=0.8,random_state=1)\n",
    "\n",
    "len(y_test)"
   ]
  },
  {
   "cell_type": "code",
   "execution_count": 49,
   "id": "72f9bcfa",
   "metadata": {},
   "outputs": [
    {
     "data": {
      "text/plain": [
       "array([[0., 0., 1.],\n",
       "       [0., 1., 0.],\n",
       "       [1., 0., 0.],\n",
       "       [0., 1., 0.],\n",
       "       [1., 0., 0.],\n",
       "       [0., 0., 1.],\n",
       "       [0., 1., 0.],\n",
       "       [1., 0., 0.],\n",
       "       [0., 0., 1.],\n",
       "       [0., 1., 0.],\n",
       "       [1., 0., 0.],\n",
       "       [1., 0., 0.],\n",
       "       [0., 1., 0.],\n",
       "       [1., 0., 0.],\n",
       "       [0., 1., 0.],\n",
       "       [0., 1., 0.],\n",
       "       [0., 0., 1.],\n",
       "       [1., 0., 0.],\n",
       "       [0., 1., 0.],\n",
       "       [1., 0., 0.],\n",
       "       [1., 0., 0.],\n",
       "       [0., 1., 0.],\n",
       "       [0., 0., 1.],\n",
       "       [0., 1., 0.],\n",
       "       [1., 0., 0.],\n",
       "       [0., 0., 1.],\n",
       "       [1., 0., 0.],\n",
       "       [1., 0., 0.],\n",
       "       [1., 0., 0.],\n",
       "       [0., 0., 1.],\n",
       "       [0., 1., 0.],\n",
       "       [0., 0., 1.],\n",
       "       [0., 0., 1.],\n",
       "       [1., 0., 0.],\n",
       "       [0., 1., 0.],\n",
       "       [0., 1., 0.]], dtype=float32)"
      ]
     },
     "execution_count": 49,
     "metadata": {},
     "output_type": "execute_result"
    }
   ],
   "source": [
    "y_train_cat = to_categorical(y_train, 3)\n",
    "y_test_cat = to_categorical(y_test, 3)\n",
    "y_test_cat"
   ]
  },
  {
   "cell_type": "markdown",
   "id": "161b1f09",
   "metadata": {},
   "source": [
    "# Feature Scaling (using StandardScalar)"
   ]
  },
  {
   "cell_type": "code",
   "execution_count": 53,
   "id": "de1893fc",
   "metadata": {},
   "outputs": [
    {
     "data": {
      "text/plain": [
       "(142, 3)"
      ]
     },
     "execution_count": 53,
     "metadata": {},
     "output_type": "execute_result"
    }
   ],
   "source": [
    "# Feature Scaling\n",
    "from sklearn.preprocessing import StandardScaler\n",
    "\n",
    "sc = StandardScaler()\n",
    "X_train_fsc = sc.fit_transform(X_train_ann)\n",
    "X_test_fsc= sc.transform(X_test_ann)\n",
    "\n",
    "np.shape(y_train_cat)"
   ]
  },
  {
   "cell_type": "markdown",
   "id": "b0fb29c9",
   "metadata": {},
   "source": [
    "# Unsupervised ML: K Means Clustering "
   ]
  },
  {
   "cell_type": "code",
   "execution_count": 32,
   "id": "8758e27f",
   "metadata": {},
   "outputs": [
    {
     "name": "stderr",
     "output_type": "stream",
     "text": [
      "C:\\Users\\rashi\\anaconda3\\lib\\site-packages\\sklearn\\cluster\\_kmeans.py:881: UserWarning: KMeans is known to have a memory leak on Windows with MKL, when there are less chunks than available threads. You can avoid it by setting the environment variable OMP_NUM_THREADS=1.\n",
      "  warnings.warn(\n"
     ]
    },
    {
     "name": "stdout",
     "output_type": "stream",
     "text": [
      "[17592296.383508474, 4543749.614531863, 2370689.6867829696, 1331903.0622637176, 916379.1871539167, 647326.0020260852, 412137.5091004584, 326044.57084739406, 271866.30174093874, 217887.3785603329]\n"
     ]
    },
    {
     "data": {
      "text/plain": [
       "Text(0, 0.5, 'SSE')"
      ]
     },
     "execution_count": 32,
     "metadata": {},
     "output_type": "execute_result"
    },
    {
     "data": {
      "image/png": "[encoded data removed]",
      "text/plain": [
       "<Figure size 720x432 with 1 Axes>"
      ]
     },
     "metadata": {
      "needs_background": "light"
     },
     "output_type": "display_data"
    }
   ],
   "source": [
    "# Elbow plot\n",
    "from sklearn.cluster import KMeans\n",
    "\n",
    "sse=[]\n",
    "k=range(1,11)\n",
    "for i in range(1,11):\n",
    "    km_t=KMeans(n_clusters=i)\n",
    "    km_t.fit(X)\n",
    "    sse_temp=km_t.inertia_\n",
    "    sse.append(sse_temp)\n",
    "\n",
    "print(sse)\n",
    "\n",
    "# plot elbow \n",
    "plt.figure(figsize=(10,6))\n",
    "plt.plot(k,sse)\n",
    "plt.title('Elbow Plot',fontsize=15);plt.xlabel('K or Number of Clusters',fontsize=15);plt.ylabel('SSE',fontsize=15)"
   ]
  },
  {
   "cell_type": "code",
   "execution_count": 28,
   "id": "db276617",
   "metadata": {},
   "outputs": [
    {
     "data": {
      "text/plain": [
       "array([1, 0, 1, 1, 2, 0, 1, 2, 0, 0, 2, 1, 0, 2, 0, 0, 0, 1, 0, 2, 2, 0,\n",
       "       1, 2, 1, 0, 2, 2, 2, 1, 0, 1, 0, 2, 1, 0])"
      ]
     },
     "execution_count": 28,
     "metadata": {},
     "output_type": "execute_result"
    }
   ],
   "source": [
    "# KMeans Clustering\n",
    "\n",
    "from sklearn.cluster import KMeans\n",
    "\n",
    "km=KMeans(n_clusters=3)\n",
    "\n",
    "# fit \n",
    "km.fit(X_train)\n",
    "\n",
    "# predict\n",
    "y_pred_km=km.predict(X_test)\n",
    "y_pred_km"
   ]
  },
  {
   "cell_type": "markdown",
   "id": "db4d1d16",
   "metadata": {},
   "source": [
    "# Naive Bayes Classifier"
   ]
  },
  {
   "cell_type": "code",
   "execution_count": 16,
   "id": "b3187828",
   "metadata": {},
   "outputs": [
    {
     "name": "stdout",
     "output_type": "stream",
     "text": [
      "The score of the Naive Bayes model is: 100.0 %\n",
      "[[14  0  0]\n",
      " [ 0 13  0]\n",
      " [ 0  0  9]]\n"
     ]
    }
   ],
   "source": [
    "from sklearn.naive_bayes import GaussianNB\n",
    "model_nb=GaussianNB()\n",
    "\n",
    "# train\n",
    "model_nb.fit(X_train,y_train)\n",
    "\n",
    "#score\n",
    "acc_nb=model_nb.score(X_test,y_test)\n",
    "print(\"The score of the Naive Bayes model is:\",round(acc_nb*100,2),\"%\")\n",
    "\n",
    "# prediction\n",
    "y_pred_nb=model_nb.predict(X_test)\n",
    "\n",
    "# prob\n",
    "model_nb.predict_proba(X_test)\n",
    "\n",
    "# confusion martrix\n",
    "from sklearn.metrics import confusion_matrix\n",
    "\n",
    "cm_nb=confusion_matrix(y_test,y_pred_nb)\n",
    "print(cm_nb)"
   ]
  },
  {
   "cell_type": "code",
   "execution_count": 9,
   "id": "5b04709e",
   "metadata": {},
   "outputs": [
    {
     "name": "stdout",
     "output_type": "stream",
     "text": [
      "Model name:<class 'sklearn.linear_model._logistic.LogisticRegression'> with accuracy of: 94.44444444444444\n",
      "Model name:<class 'sklearn.svm._classes.SVC'> with accuracy of: 63.888888888888886\n",
      "[0.9444444444444444, 0.6388888888888888]\n"
     ]
    }
   ],
   "source": [
    "# Multiple Models Run\n",
    "from sklearn.linear_model import LogisticRegression\n",
    "from sklearn.svm import SVC\n",
    "\n",
    "models=[LogisticRegression,SVC]\n",
    "acc=[]\n",
    "\n",
    "for i in range(len(models)):\n",
    "    model=models[i]()\n",
    "    model.fit(X_train,y_train)\n",
    "    score=model.score(X_test,y_test)\n",
    "    acc.append(score)\n",
    "    print(f\"Model name:{models[i]} with accuracy of: {score*100}\")\n",
    "    \n",
    "print(acc)"
   ]
  },
  {
   "cell_type": "markdown",
   "id": "1c4a7add",
   "metadata": {},
   "source": [
    "# Artificial Neural Network \n",
    "\n",
    "Using MLP for Multi-Class Classification"
   ]
  },
  {
   "cell_type": "code",
   "execution_count": 9,
   "id": "9e17dba2",
   "metadata": {},
   "outputs": [],
   "source": [
    "import keras\n",
    "from keras.models import Sequential\n",
    "from keras.layers import Dense\n",
    "from keras.layers import LeakyReLU,PReLU,ELU\n",
    "from keras.layers import Dropout"
   ]
  },
  {
   "cell_type": "code",
   "execution_count": 56,
   "id": "7d816f1c",
   "metadata": {},
   "outputs": [
    {
     "name": "stdout",
     "output_type": "stream",
     "text": [
      "Epoch 1/100\n",
      "10/10 [==============================] - 1s 32ms/step - loss: 1.5460 - accuracy: 0.3789 - val_loss: 1.6539 - val_accuracy: 0.2766\n",
      "Epoch 2/100\n",
      "10/10 [==============================] - 0s 11ms/step - loss: 1.4412 - accuracy: 0.4632 - val_loss: 1.5659 - val_accuracy: 0.3404\n",
      "Epoch 3/100\n",
      "10/10 [==============================] - 0s 12ms/step - loss: 1.3466 - accuracy: 0.4842 - val_loss: 1.4929 - val_accuracy: 0.3617\n",
      "Epoch 4/100\n",
      "10/10 [==============================] - 0s 10ms/step - loss: 1.2742 - accuracy: 0.5053 - val_loss: 1.4202 - val_accuracy: 0.3830\n",
      "Epoch 5/100\n",
      "10/10 [==============================] - 0s 11ms/step - loss: 1.1975 - accuracy: 0.5158 - val_loss: 1.3602 - val_accuracy: 0.4043\n",
      "Epoch 6/100\n",
      "10/10 [==============================] - 0s 10ms/step - loss: 1.1346 - accuracy: 0.5158 - val_loss: 1.3075 - val_accuracy: 0.4043\n",
      "Epoch 7/100\n",
      "10/10 [==============================] - 0s 10ms/step - loss: 1.0757 - accuracy: 0.5474 - val_loss: 1.2626 - val_accuracy: 0.4043\n",
      "Epoch 8/100\n",
      "10/10 [==============================] - 0s 11ms/step - loss: 1.0270 - accuracy: 0.5579 - val_loss: 1.2192 - val_accuracy: 0.4043\n",
      "Epoch 9/100\n",
      "10/10 [==============================] - 0s 9ms/step - loss: 0.9765 - accuracy: 0.5684 - val_loss: 1.1834 - val_accuracy: 0.4043\n",
      "Epoch 10/100\n",
      "10/10 [==============================] - 0s 9ms/step - loss: 0.9336 - accuracy: 0.5789 - val_loss: 1.1513 - val_accuracy: 0.4043\n",
      "Epoch 11/100\n",
      "10/10 [==============================] - 0s 9ms/step - loss: 0.8929 - accuracy: 0.5684 - val_loss: 1.1199 - val_accuracy: 0.4043\n",
      "Epoch 12/100\n",
      "10/10 [==============================] - 0s 10ms/step - loss: 0.8542 - accuracy: 0.5789 - val_loss: 1.0926 - val_accuracy: 0.4043\n",
      "Epoch 13/100\n",
      "10/10 [==============================] - 0s 9ms/step - loss: 0.8204 - accuracy: 0.5895 - val_loss: 1.0638 - val_accuracy: 0.4468\n",
      "Epoch 14/100\n",
      "10/10 [==============================] - 0s 11ms/step - loss: 0.7834 - accuracy: 0.6211 - val_loss: 1.0394 - val_accuracy: 0.4468\n",
      "Epoch 15/100\n",
      "10/10 [==============================] - 0s 11ms/step - loss: 0.7535 - accuracy: 0.6632 - val_loss: 1.0162 - val_accuracy: 0.4894\n",
      "Epoch 16/100\n",
      "10/10 [==============================] - 0s 9ms/step - loss: 0.7254 - accuracy: 0.7053 - val_loss: 0.9928 - val_accuracy: 0.5106\n",
      "Epoch 17/100\n",
      "10/10 [==============================] - 0s 10ms/step - loss: 0.6991 - accuracy: 0.7474 - val_loss: 0.9697 - val_accuracy: 0.5745\n",
      "Epoch 18/100\n",
      "10/10 [==============================] - 0s 13ms/step - loss: 0.6742 - accuracy: 0.7474 - val_loss: 0.9458 - val_accuracy: 0.6170\n",
      "Epoch 19/100\n",
      "10/10 [==============================] - 0s 12ms/step - loss: 0.6526 - accuracy: 0.8000 - val_loss: 0.9228 - val_accuracy: 0.6383\n",
      "Epoch 20/100\n",
      "10/10 [==============================] - 0s 10ms/step - loss: 0.6318 - accuracy: 0.8316 - val_loss: 0.9036 - val_accuracy: 0.6809\n",
      "Epoch 21/100\n",
      "10/10 [==============================] - 0s 9ms/step - loss: 0.6124 - accuracy: 0.8632 - val_loss: 0.8826 - val_accuracy: 0.7234\n",
      "Epoch 22/100\n",
      "10/10 [==============================] - 0s 11ms/step - loss: 0.5938 - accuracy: 0.8632 - val_loss: 0.8650 - val_accuracy: 0.7447\n",
      "Epoch 23/100\n",
      "10/10 [==============================] - 0s 13ms/step - loss: 0.5761 - accuracy: 0.8737 - val_loss: 0.8421 - val_accuracy: 0.7447\n",
      "Epoch 24/100\n",
      "10/10 [==============================] - 0s 9ms/step - loss: 0.5576 - accuracy: 0.8947 - val_loss: 0.8216 - val_accuracy: 0.7660\n",
      "Epoch 25/100\n",
      "10/10 [==============================] - 0s 10ms/step - loss: 0.5396 - accuracy: 0.9053 - val_loss: 0.8043 - val_accuracy: 0.7660\n",
      "Epoch 26/100\n",
      "10/10 [==============================] - 0s 10ms/step - loss: 0.5235 - accuracy: 0.9158 - val_loss: 0.7845 - val_accuracy: 0.7660\n",
      "Epoch 27/100\n",
      "10/10 [==============================] - 0s 11ms/step - loss: 0.5058 - accuracy: 0.9158 - val_loss: 0.7691 - val_accuracy: 0.7872\n",
      "Epoch 28/100\n",
      "10/10 [==============================] - 0s 10ms/step - loss: 0.4900 - accuracy: 0.9263 - val_loss: 0.7514 - val_accuracy: 0.7872\n",
      "Epoch 29/100\n",
      "10/10 [==============================] - 0s 11ms/step - loss: 0.4743 - accuracy: 0.9263 - val_loss: 0.7339 - val_accuracy: 0.7872\n",
      "Epoch 30/100\n",
      "10/10 [==============================] - 0s 11ms/step - loss: 0.4591 - accuracy: 0.9263 - val_loss: 0.7170 - val_accuracy: 0.7872\n",
      "Epoch 31/100\n",
      "10/10 [==============================] - 0s 10ms/step - loss: 0.4440 - accuracy: 0.9263 - val_loss: 0.7015 - val_accuracy: 0.8085\n",
      "Epoch 32/100\n",
      "10/10 [==============================] - 0s 12ms/step - loss: 0.4289 - accuracy: 0.9263 - val_loss: 0.6871 - val_accuracy: 0.8085\n",
      "Epoch 33/100\n",
      "10/10 [==============================] - 0s 10ms/step - loss: 0.4146 - accuracy: 0.9474 - val_loss: 0.6699 - val_accuracy: 0.8298\n",
      "Epoch 34/100\n",
      "10/10 [==============================] - 0s 9ms/step - loss: 0.3985 - accuracy: 0.9474 - val_loss: 0.6548 - val_accuracy: 0.8298\n",
      "Epoch 35/100\n",
      "10/10 [==============================] - 0s 9ms/step - loss: 0.3835 - accuracy: 0.9474 - val_loss: 0.6377 - val_accuracy: 0.8298\n",
      "Epoch 36/100\n",
      "10/10 [==============================] - 0s 12ms/step - loss: 0.3672 - accuracy: 0.9474 - val_loss: 0.6214 - val_accuracy: 0.8298\n",
      "Epoch 37/100\n",
      "10/10 [==============================] - 0s 9ms/step - loss: 0.3518 - accuracy: 0.9579 - val_loss: 0.6062 - val_accuracy: 0.8298\n",
      "Epoch 38/100\n",
      "10/10 [==============================] - 0s 11ms/step - loss: 0.3365 - accuracy: 0.9579 - val_loss: 0.5915 - val_accuracy: 0.8298\n",
      "Epoch 39/100\n",
      "10/10 [==============================] - 0s 12ms/step - loss: 0.3215 - accuracy: 0.9579 - val_loss: 0.5763 - val_accuracy: 0.8298\n",
      "Epoch 40/100\n",
      "10/10 [==============================] - 0s 12ms/step - loss: 0.3061 - accuracy: 0.9579 - val_loss: 0.5607 - val_accuracy: 0.8511\n",
      "Epoch 41/100\n",
      "10/10 [==============================] - 0s 13ms/step - loss: 0.2914 - accuracy: 0.9579 - val_loss: 0.5466 - val_accuracy: 0.8511\n",
      "Epoch 42/100\n",
      "10/10 [==============================] - 0s 12ms/step - loss: 0.2776 - accuracy: 0.9579 - val_loss: 0.5356 - val_accuracy: 0.8723\n",
      "Epoch 43/100\n",
      "10/10 [==============================] - 0s 11ms/step - loss: 0.2644 - accuracy: 0.9579 - val_loss: 0.5238 - val_accuracy: 0.8723\n",
      "Epoch 44/100\n",
      "10/10 [==============================] - 0s 11ms/step - loss: 0.2520 - accuracy: 0.9579 - val_loss: 0.5127 - val_accuracy: 0.8723\n",
      "Epoch 45/100\n",
      "10/10 [==============================] - 0s 11ms/step - loss: 0.2393 - accuracy: 0.9789 - val_loss: 0.5018 - val_accuracy: 0.8723\n",
      "Epoch 46/100\n",
      "10/10 [==============================] - 0s 12ms/step - loss: 0.2269 - accuracy: 0.9789 - val_loss: 0.4911 - val_accuracy: 0.8723\n",
      "Epoch 47/100\n",
      "10/10 [==============================] - 0s 11ms/step - loss: 0.2156 - accuracy: 0.9684 - val_loss: 0.4809 - val_accuracy: 0.8723\n",
      "Epoch 48/100\n",
      "10/10 [==============================] - 0s 10ms/step - loss: 0.2047 - accuracy: 0.9684 - val_loss: 0.4723 - val_accuracy: 0.8723\n",
      "Epoch 49/100\n",
      "10/10 [==============================] - 0s 9ms/step - loss: 0.1948 - accuracy: 0.9684 - val_loss: 0.4614 - val_accuracy: 0.8723\n",
      "Epoch 50/100\n",
      "10/10 [==============================] - 0s 8ms/step - loss: 0.1849 - accuracy: 0.9684 - val_loss: 0.4547 - val_accuracy: 0.8723\n",
      "Epoch 51/100\n",
      "10/10 [==============================] - 0s 11ms/step - loss: 0.1756 - accuracy: 0.9684 - val_loss: 0.4458 - val_accuracy: 0.8723\n",
      "Epoch 52/100\n",
      "10/10 [==============================] - 0s 10ms/step - loss: 0.1666 - accuracy: 0.9684 - val_loss: 0.4384 - val_accuracy: 0.8723\n",
      "Epoch 53/100\n",
      "10/10 [==============================] - 0s 10ms/step - loss: 0.1588 - accuracy: 0.9895 - val_loss: 0.4316 - val_accuracy: 0.8723\n",
      "Epoch 54/100\n",
      "10/10 [==============================] - 0s 11ms/step - loss: 0.1507 - accuracy: 0.9895 - val_loss: 0.4250 - val_accuracy: 0.8723\n",
      "Epoch 55/100\n",
      "10/10 [==============================] - 0s 11ms/step - loss: 0.1432 - accuracy: 0.9895 - val_loss: 0.4189 - val_accuracy: 0.8723\n",
      "Epoch 56/100\n",
      "10/10 [==============================] - 0s 11ms/step - loss: 0.1370 - accuracy: 0.9895 - val_loss: 0.4133 - val_accuracy: 0.8723\n",
      "Epoch 57/100\n",
      "10/10 [==============================] - 0s 12ms/step - loss: 0.1303 - accuracy: 0.9895 - val_loss: 0.4075 - val_accuracy: 0.8723\n",
      "Epoch 58/100\n",
      "10/10 [==============================] - 0s 12ms/step - loss: 0.1246 - accuracy: 1.0000 - val_loss: 0.4017 - val_accuracy: 0.8723\n",
      "Epoch 59/100\n",
      "10/10 [==============================] - 0s 9ms/step - loss: 0.1190 - accuracy: 1.0000 - val_loss: 0.3956 - val_accuracy: 0.8723\n",
      "Epoch 60/100\n",
      "10/10 [==============================] - 0s 9ms/step - loss: 0.1141 - accuracy: 1.0000 - val_loss: 0.3942 - val_accuracy: 0.8723\n",
      "Epoch 61/100\n",
      "10/10 [==============================] - 0s 11ms/step - loss: 0.1088 - accuracy: 1.0000 - val_loss: 0.3894 - val_accuracy: 0.8723\n",
      "Epoch 62/100\n",
      "10/10 [==============================] - 0s 11ms/step - loss: 0.1044 - accuracy: 1.0000 - val_loss: 0.3860 - val_accuracy: 0.8723\n",
      "Epoch 63/100\n",
      "10/10 [==============================] - 0s 10ms/step - loss: 0.1001 - accuracy: 1.0000 - val_loss: 0.3809 - val_accuracy: 0.8723\n",
      "Epoch 64/100\n",
      "10/10 [==============================] - 0s 10ms/step - loss: 0.0960 - accuracy: 1.0000 - val_loss: 0.3784 - val_accuracy: 0.8723\n",
      "Epoch 65/100\n",
      "10/10 [==============================] - 0s 12ms/step - loss: 0.0921 - accuracy: 1.0000 - val_loss: 0.3749 - val_accuracy: 0.8723\n",
      "Epoch 66/100\n",
      "10/10 [==============================] - 0s 12ms/step - loss: 0.0887 - accuracy: 1.0000 - val_loss: 0.3709 - val_accuracy: 0.8723\n",
      "Epoch 67/100\n",
      "10/10 [==============================] - 0s 12ms/step - loss: 0.0853 - accuracy: 1.0000 - val_loss: 0.3663 - val_accuracy: 0.8723\n",
      "Epoch 68/100\n",
      "10/10 [==============================] - 0s 10ms/step - loss: 0.0821 - accuracy: 1.0000 - val_loss: 0.3643 - val_accuracy: 0.8723\n",
      "Epoch 69/100\n",
      "10/10 [==============================] - 0s 10ms/step - loss: 0.0789 - accuracy: 1.0000 - val_loss: 0.3627 - val_accuracy: 0.8723\n",
      "Epoch 70/100\n",
      "10/10 [==============================] - 0s 8ms/step - loss: 0.0761 - accuracy: 1.0000 - val_loss: 0.3607 - val_accuracy: 0.8723\n",
      "Epoch 71/100\n",
      "10/10 [==============================] - 0s 9ms/step - loss: 0.0731 - accuracy: 1.0000 - val_loss: 0.3577 - val_accuracy: 0.8936\n",
      "Epoch 72/100\n",
      "10/10 [==============================] - 0s 9ms/step - loss: 0.0707 - accuracy: 1.0000 - val_loss: 0.3548 - val_accuracy: 0.8936\n",
      "Epoch 73/100\n",
      "10/10 [==============================] - 0s 9ms/step - loss: 0.0679 - accuracy: 1.0000 - val_loss: 0.3533 - val_accuracy: 0.8936\n",
      "Epoch 74/100\n",
      "10/10 [==============================] - 0s 9ms/step - loss: 0.0657 - accuracy: 1.0000 - val_loss: 0.3521 - val_accuracy: 0.8936\n",
      "Epoch 75/100\n",
      "10/10 [==============================] - 0s 9ms/step - loss: 0.0633 - accuracy: 1.0000 - val_loss: 0.3496 - val_accuracy: 0.8936\n",
      "Epoch 76/100\n",
      "10/10 [==============================] - 0s 9ms/step - loss: 0.0611 - accuracy: 1.0000 - val_loss: 0.3491 - val_accuracy: 0.8936\n",
      "Epoch 77/100\n",
      "10/10 [==============================] - 0s 9ms/step - loss: 0.0592 - accuracy: 1.0000 - val_loss: 0.3468 - val_accuracy: 0.8936\n",
      "Epoch 78/100\n",
      "10/10 [==============================] - 0s 9ms/step - loss: 0.0572 - accuracy: 1.0000 - val_loss: 0.3443 - val_accuracy: 0.8936\n",
      "Epoch 79/100\n",
      "10/10 [==============================] - 0s 8ms/step - loss: 0.0553 - accuracy: 1.0000 - val_loss: 0.3426 - val_accuracy: 0.8936\n",
      "Epoch 80/100\n",
      "10/10 [==============================] - 0s 10ms/step - loss: 0.0532 - accuracy: 1.0000 - val_loss: 0.3406 - val_accuracy: 0.8936\n",
      "Epoch 81/100\n",
      "10/10 [==============================] - 0s 9ms/step - loss: 0.0514 - accuracy: 1.0000 - val_loss: 0.3399 - val_accuracy: 0.8936\n",
      "Epoch 82/100\n",
      "10/10 [==============================] - 0s 9ms/step - loss: 0.0497 - accuracy: 1.0000 - val_loss: 0.3392 - val_accuracy: 0.8936\n",
      "Epoch 83/100\n",
      "10/10 [==============================] - 0s 9ms/step - loss: 0.0479 - accuracy: 1.0000 - val_loss: 0.3384 - val_accuracy: 0.8936\n",
      "Epoch 84/100\n",
      "10/10 [==============================] - 0s 11ms/step - loss: 0.0463 - accuracy: 1.0000 - val_loss: 0.3367 - val_accuracy: 0.8936\n",
      "Epoch 85/100\n",
      "10/10 [==============================] - 0s 9ms/step - loss: 0.0447 - accuracy: 1.0000 - val_loss: 0.3350 - val_accuracy: 0.8936\n",
      "Epoch 86/100\n",
      "10/10 [==============================] - 0s 11ms/step - loss: 0.0433 - accuracy: 1.0000 - val_loss: 0.3337 - val_accuracy: 0.8936\n",
      "Epoch 87/100\n",
      "10/10 [==============================] - 0s 10ms/step - loss: 0.0420 - accuracy: 1.0000 - val_loss: 0.3337 - val_accuracy: 0.8936\n",
      "Epoch 88/100\n",
      "10/10 [==============================] - 0s 11ms/step - loss: 0.0407 - accuracy: 1.0000 - val_loss: 0.3329 - val_accuracy: 0.8936\n",
      "Epoch 89/100\n",
      "10/10 [==============================] - 0s 9ms/step - loss: 0.0394 - accuracy: 1.0000 - val_loss: 0.3308 - val_accuracy: 0.8936\n",
      "Epoch 90/100\n",
      "10/10 [==============================] - 0s 9ms/step - loss: 0.0382 - accuracy: 1.0000 - val_loss: 0.3284 - val_accuracy: 0.8936\n",
      "Epoch 91/100\n",
      "10/10 [==============================] - 0s 9ms/step - loss: 0.0370 - accuracy: 1.0000 - val_loss: 0.3284 - val_accuracy: 0.8936\n",
      "Epoch 92/100\n",
      "10/10 [==============================] - 0s 9ms/step - loss: 0.0358 - accuracy: 1.0000 - val_loss: 0.3278 - val_accuracy: 0.8936\n",
      "Epoch 93/100\n",
      "10/10 [==============================] - 0s 8ms/step - loss: 0.0348 - accuracy: 1.0000 - val_loss: 0.3267 - val_accuracy: 0.8936\n",
      "Epoch 94/100\n",
      "10/10 [==============================] - 0s 9ms/step - loss: 0.0337 - accuracy: 1.0000 - val_loss: 0.3258 - val_accuracy: 0.8936\n",
      "Epoch 95/100\n",
      "10/10 [==============================] - 0s 9ms/step - loss: 0.0327 - accuracy: 1.0000 - val_loss: 0.3248 - val_accuracy: 0.8936\n",
      "Epoch 96/100\n",
      "10/10 [==============================] - 0s 9ms/step - loss: 0.0318 - accuracy: 1.0000 - val_loss: 0.3242 - val_accuracy: 0.8936\n",
      "Epoch 97/100\n",
      "10/10 [==============================] - 0s 9ms/step - loss: 0.0308 - accuracy: 1.0000 - val_loss: 0.3230 - val_accuracy: 0.8936\n",
      "Epoch 98/100\n",
      "10/10 [==============================] - 0s 10ms/step - loss: 0.0300 - accuracy: 1.0000 - val_loss: 0.3228 - val_accuracy: 0.8936\n",
      "Epoch 99/100\n",
      "10/10 [==============================] - 0s 11ms/step - loss: 0.0290 - accuracy: 1.0000 - val_loss: 0.3219 - val_accuracy: 0.8936\n",
      "Epoch 100/100\n",
      "10/10 [==============================] - 0s 10ms/step - loss: 0.0282 - accuracy: 1.0000 - val_loss: 0.3211 - val_accuracy: 0.8936\n"
     ]
    }
   ],
   "source": [
    "# Multi Class ANN \n",
    "\n",
    "# Initialising the ANN\n",
    "classifier = Sequential()\n",
    "\n",
    "# Adding the input layer and the first hidden layer\n",
    "classifier.add(Dense(units = 6, kernel_initializer = 'he_uniform',activation='relu',input_dim = 13))\n",
    "\n",
    "# Adding the second hidden layer\n",
    "classifier.add(Dense(units = 6, kernel_initializer = 'he_uniform',activation='relu'))\n",
    "# Adding the output layer\n",
    "classifier.add(Dense(units = 3, kernel_initializer = 'glorot_uniform', activation = 'softmax'))\n",
    "\n",
    "# Compiling the ANN\n",
    "classifier.compile(optimizer = 'Adam', loss = 'categorical_crossentropy', metrics = ['accuracy'])\n",
    "\n",
    "# Fitting the ANN to the Training set\n",
    "model_history=classifier.fit(X_train_fsc, y_train_cat,validation_split=0.33, batch_size = 10, epochs = 100)"
   ]
  },
  {
   "cell_type": "code",
   "execution_count": 58,
   "id": "792f48ca",
   "metadata": {},
   "outputs": [
    {
     "name": "stdout",
     "output_type": "stream",
     "text": [
      "2/2 [==============================] - 0s 4ms/step\n"
     ]
    }
   ],
   "source": [
    "# Predicting the Test set results\n",
    "\n",
    "pred = classifier.predict(X_test_ann)\n",
    "pred\n",
    "pred_ = np.argmax(to_categorical(pred), axis = 1)\n"
   ]
  },
  {
   "cell_type": "code",
   "execution_count": 59,
   "id": "82840037",
   "metadata": {},
   "outputs": [
    {
     "name": "stdout",
     "output_type": "stream",
     "text": [
      "2/2 [==============================] - 0s 4ms/step - loss: 416.6267 - accuracy: 0.3889\n"
     ]
    },
    {
     "data": {
      "text/plain": [
       "[416.6267395019531, 0.3888888955116272]"
      ]
     },
     "execution_count": 59,
     "metadata": {},
     "output_type": "execute_result"
    }
   ],
   "source": [
    "classifier.evaluate(X_test_ann,y_test_cat)"
   ]
  },
  {
   "cell_type": "code",
   "execution_count": 60,
   "id": "6235994d",
   "metadata": {},
   "outputs": [
    {
     "data": {
      "text/plain": [
       "<matplotlib.legend.Legend at 0x1e1fee01dc0>"
      ]
     },
     "execution_count": 60,
     "metadata": {},
     "output_type": "execute_result"
    },
    {
     "data": {
      "image/png": "[encoded data removed]",
      "text/plain": [
       "<Figure size 432x288 with 1 Axes>"
      ]
     },
     "metadata": {
      "needs_background": "light"
     },
     "output_type": "display_data"
    }
   ],
   "source": [
    "# summarize history for accuracy\n",
    "plt.plot(model_history.history['accuracy'])\n",
    "plt.plot(model_history.history['val_accuracy'])\n",
    "plt.title('model loss')\n",
    "plt.ylabel('Accuracy')\n",
    "plt.xlabel('epoch')\n",
    "plt.legend(['train', 'test'], loc='upper left')"
   ]
  },
  {
   "cell_type": "code",
   "execution_count": 61,
   "id": "78e31369",
   "metadata": {},
   "outputs": [
    {
     "data": {
      "image/png": "[encoded data removed]",
      "text/plain": [
       "<Figure size 432x288 with 1 Axes>"
      ]
     },
     "metadata": {
      "needs_background": "light"
     },
     "output_type": "display_data"
    }
   ],
   "source": [
    "# summarize history for loss\n",
    "plt.plot(model_history.history['loss'])\n",
    "plt.plot(model_history.history['val_loss'])\n",
    "plt.title('model loss')\n",
    "plt.ylabel('loss')\n",
    "plt.xlabel('epoch')\n",
    "plt.legend(['train', 'test'], loc='best')\n",
    "plt.show()"
   ]
  }
 ],
 "metadata": {
  "kernelspec": {
   "display_name": "Python 3 (ipykernel)",
   "language": "python",
   "name": "python3"
  },
  "language_info": {
   "codemirror_mode": {
    "name": "ipython",
    "version": 3
   },
   "file_extension": ".py",
   "mimetype": "text/x-python",
   "name": "python",
   "nbconvert_exporter": "python",
   "pygments_lexer": "ipython3",
   "version": "3.9.7"
  }
 },
 "nbformat": 4,
 "nbformat_minor": 5
}

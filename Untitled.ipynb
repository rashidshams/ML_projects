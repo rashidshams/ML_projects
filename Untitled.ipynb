{
 "cells": [
  {
   "cell_type": "markdown",
   "id": "d58e4bf7",
   "metadata": {},
   "source": [
    "# Disease Diagnosis\n",
    "\n",
    "Gender-> Male=1, Female=0\n",
    "Age\n",
    "Smoking\n",
    "Male=1\tNon-smoker=1\n",
    "Female=0\tEx-smoker=2\n",
    "Active-smoker=3\n",
    "\n",
    "\n",
    "Diseases> COPD, HM, Asthma, Infected"
   ]
  },
  {
   "cell_type": "code",
   "execution_count": 3,
   "id": "2143f75b",
   "metadata": {},
   "outputs": [],
   "source": [
    "import pandas as pd \n",
    "import numpy as np\n",
    "import matplotlib.pyplot as plt"
   ]
  },
  {
   "cell_type": "code",
   "execution_count": 4,
   "id": "2d829c24",
   "metadata": {},
   "outputs": [
    {
     "name": "stdout",
     "output_type": "stream",
     "text": [
      "    Diagnosis     ID  Gender  Age  Smoking\n",
      "0        COPD  301-4       1   77        2\n",
      "1        COPD  302-3       0   72        2\n",
      "2        COPD  303-3       1   73        3\n",
      "3        COPD  304-4       1   76        2\n",
      "4        COPD  305-4       0   65        2\n",
      "..        ...    ...     ...  ...      ...\n",
      "394  Infected   I176       0   49        2\n",
      "395  Infected   I177       0   37        1\n",
      "396  Infected   I178       0   29        1\n",
      "397  Infected   I179       1   51        1\n",
      "398  Infected   I180       0   40        1\n",
      "\n",
      "[399 rows x 5 columns]\n"
     ]
    }
   ],
   "source": [
    "# Load the data\n",
    "dis=pd.read_csv(\"C://Users//rashi//OneDrive//Desktop//USC//Python//ML_tutorial//disease_fullML.csv\",header=0)\n",
    "print(dis)\n"
   ]
  },
  {
   "cell_type": "code",
   "execution_count": 5,
   "id": "ed49a453",
   "metadata": {},
   "outputs": [
    {
     "data": {
      "text/plain": [
       "array(['Asthma', 'COPD', 'HC', 'Infected'], dtype=object)"
      ]
     },
     "execution_count": 5,
     "metadata": {},
     "output_type": "execute_result"
    }
   ],
   "source": [
    "# explore data\n",
    "np.unique(dis.Diagnosis)\n"
   ]
  },
  {
   "cell_type": "code",
   "execution_count": 6,
   "id": "92f90242",
   "metadata": {},
   "outputs": [
    {
     "data": {
      "text/html": [
       "<div>\n",
       "<style scoped>\n",
       "    .dataframe tbody tr th:only-of-type {\n",
       "        vertical-align: middle;\n",
       "    }\n",
       "\n",
       "    .dataframe tbody tr th {\n",
       "        vertical-align: top;\n",
       "    }\n",
       "\n",
       "    .dataframe thead th {\n",
       "        text-align: right;\n",
       "    }\n",
       "</style>\n",
       "<table border=\"1\" class=\"dataframe\">\n",
       "  <thead>\n",
       "    <tr style=\"text-align: right;\">\n",
       "      <th></th>\n",
       "      <th>Age</th>\n",
       "      <th>Gender_0</th>\n",
       "      <th>Smoking_1</th>\n",
       "      <th>Smoking_2</th>\n",
       "    </tr>\n",
       "  </thead>\n",
       "  <tbody>\n",
       "    <tr>\n",
       "      <th>0</th>\n",
       "      <td>77</td>\n",
       "      <td>0</td>\n",
       "      <td>0</td>\n",
       "      <td>1</td>\n",
       "    </tr>\n",
       "    <tr>\n",
       "      <th>1</th>\n",
       "      <td>72</td>\n",
       "      <td>1</td>\n",
       "      <td>0</td>\n",
       "      <td>1</td>\n",
       "    </tr>\n",
       "    <tr>\n",
       "      <th>2</th>\n",
       "      <td>73</td>\n",
       "      <td>0</td>\n",
       "      <td>0</td>\n",
       "      <td>0</td>\n",
       "    </tr>\n",
       "    <tr>\n",
       "      <th>3</th>\n",
       "      <td>76</td>\n",
       "      <td>0</td>\n",
       "      <td>0</td>\n",
       "      <td>1</td>\n",
       "    </tr>\n",
       "    <tr>\n",
       "      <th>4</th>\n",
       "      <td>65</td>\n",
       "      <td>1</td>\n",
       "      <td>0</td>\n",
       "      <td>1</td>\n",
       "    </tr>\n",
       "    <tr>\n",
       "      <th>...</th>\n",
       "      <td>...</td>\n",
       "      <td>...</td>\n",
       "      <td>...</td>\n",
       "      <td>...</td>\n",
       "    </tr>\n",
       "    <tr>\n",
       "      <th>394</th>\n",
       "      <td>49</td>\n",
       "      <td>1</td>\n",
       "      <td>0</td>\n",
       "      <td>1</td>\n",
       "    </tr>\n",
       "    <tr>\n",
       "      <th>395</th>\n",
       "      <td>37</td>\n",
       "      <td>1</td>\n",
       "      <td>1</td>\n",
       "      <td>0</td>\n",
       "    </tr>\n",
       "    <tr>\n",
       "      <th>396</th>\n",
       "      <td>29</td>\n",
       "      <td>1</td>\n",
       "      <td>1</td>\n",
       "      <td>0</td>\n",
       "    </tr>\n",
       "    <tr>\n",
       "      <th>397</th>\n",
       "      <td>51</td>\n",
       "      <td>0</td>\n",
       "      <td>1</td>\n",
       "      <td>0</td>\n",
       "    </tr>\n",
       "    <tr>\n",
       "      <th>398</th>\n",
       "      <td>40</td>\n",
       "      <td>1</td>\n",
       "      <td>1</td>\n",
       "      <td>0</td>\n",
       "    </tr>\n",
       "  </tbody>\n",
       "</table>\n",
       "<p>399 rows × 4 columns</p>\n",
       "</div>"
      ],
      "text/plain": [
       "     Age  Gender_0  Smoking_1  Smoking_2\n",
       "0     77         0          0          1\n",
       "1     72         1          0          1\n",
       "2     73         0          0          0\n",
       "3     76         0          0          1\n",
       "4     65         1          0          1\n",
       "..   ...       ...        ...        ...\n",
       "394   49         1          0          1\n",
       "395   37         1          1          0\n",
       "396   29         1          1          0\n",
       "397   51         0          1          0\n",
       "398   40         1          1          0\n",
       "\n",
       "[399 rows x 4 columns]"
      ]
     },
     "execution_count": 6,
     "metadata": {},
     "output_type": "execute_result"
    }
   ],
   "source": [
    "# Target Variable \n",
    "y=dis.Diagnosis\n",
    "\n",
    "dummies=pd.get_dummies(data=dis,columns=['Gender','Smoking'])\n",
    "dummies\n",
    "\n",
    "X=dummies.drop(['Diagnosis','ID','Gender_1','Smoking_3'],axis='columns')\n",
    "X\n"
   ]
  },
  {
   "cell_type": "markdown",
   "id": "5fed430a",
   "metadata": {},
   "source": [
    "# K Means Clustering: Unsupervised ML Algorithm\n"
   ]
  },
  {
   "cell_type": "code",
   "execution_count": 7,
   "id": "78c45eb4",
   "metadata": {},
   "outputs": [
    {
     "data": {
      "text/plain": [
       "array([2, 2, 2, 2, 1, 1, 2, 2, 2, 2, 1, 2, 1, 2, 1, 3, 2, 2, 2, 2, 2, 2,\n",
       "       2, 1, 2, 2, 1, 2, 2, 2, 2, 2, 2, 2, 1, 2, 2, 1, 2, 2, 2, 2, 2, 2,\n",
       "       1, 2, 2, 2, 2, 2, 2, 3, 2, 2, 2, 1, 2, 2, 2, 2, 2, 1, 2, 2, 2, 2,\n",
       "       1, 2, 1, 2, 2, 1, 2, 2, 1, 1, 2, 2, 2, 3, 1, 1, 1, 1, 1, 3, 0, 3,\n",
       "       3, 1, 3, 3, 1, 3, 3, 1, 0, 0, 3, 1, 0, 1, 0, 0, 3, 0, 1, 1, 3, 3,\n",
       "       1, 1, 0, 3, 1, 1, 3, 0, 3, 0, 0, 0, 0, 3, 1, 0, 1, 0, 0, 0, 0, 1,\n",
       "       1, 3, 3, 3, 3, 3, 0, 0, 0, 1, 3, 1, 3, 1, 0, 1, 1, 1, 0, 1, 0, 0,\n",
       "       0, 0, 0, 3, 1, 3, 0, 0, 1, 0, 3, 0, 1, 3, 0, 3, 1, 3, 1, 1, 1, 1,\n",
       "       1, 1, 0, 0, 0, 3, 1, 1, 3, 0, 0, 3, 0, 0, 1, 1, 3, 3, 1, 1, 0, 0,\n",
       "       0, 2, 0, 0, 0, 0, 0, 1, 3, 3, 3, 3, 3, 0, 3, 1, 0, 0, 1, 0, 0, 3,\n",
       "       0, 0, 1, 3, 3, 3, 3, 0, 0, 3, 0, 0, 1, 3, 1, 3, 0, 1, 3, 0, 3, 0,\n",
       "       0, 1, 0, 1, 2, 3, 1, 1, 3, 2, 0, 1, 2, 1, 1, 3, 1, 1, 2, 3, 0, 0,\n",
       "       3, 1, 3, 1, 1, 3, 3, 2, 0, 2, 3, 0, 2, 3, 1, 2, 2, 1, 2, 1, 2, 1,\n",
       "       2, 1, 1, 1, 2, 2, 1, 1, 1, 1, 1, 1, 1, 1, 1, 2, 2, 1, 2, 1, 2, 2,\n",
       "       0, 1, 1, 2, 1, 2, 2, 0, 2, 2, 1, 3, 0, 0, 1, 0, 3, 0, 1, 3, 0, 3,\n",
       "       1, 3, 1, 1, 1, 1, 1, 1, 0, 0, 0, 3, 1, 1, 3, 0, 0, 3, 0, 0, 1, 1,\n",
       "       3, 3, 1, 1, 0, 0, 0, 2, 0, 0, 0, 0, 0, 1, 3, 3, 3, 3, 3, 0, 3, 1,\n",
       "       0, 0, 1, 0, 0, 3, 0, 0, 1, 3, 3, 3, 3, 0, 0, 3, 0, 0, 1, 3, 1, 3,\n",
       "       0, 1, 3])"
      ]
     },
     "execution_count": 7,
     "metadata": {},
     "output_type": "execute_result"
    }
   ],
   "source": [
    "from sklearn.cluster import KMeans\n",
    "\n",
    "km=KMeans(n_clusters=4)\n",
    "\n",
    "# fit \n",
    "km.fit(X)\n",
    "\n",
    "# predict\n",
    "y_pred_km=km.predict(X)\n",
    "y_pred_km\n",
    "\n"
   ]
  },
  {
   "cell_type": "markdown",
   "id": "28b64589",
   "metadata": {},
   "source": [
    "# Elbow Technique: To find optimum k(n_clusters) value\n",
    "\n"
   ]
  },
  {
   "cell_type": "code",
   "execution_count": 9,
   "id": "0efd1cbd",
   "metadata": {},
   "outputs": [
    {
     "name": "stderr",
     "output_type": "stream",
     "text": [
      "C:\\Users\\rashi\\anaconda3\\lib\\site-packages\\sklearn\\cluster\\_kmeans.py:881: UserWarning: KMeans is known to have a memory leak on Windows with MKL, when there are less chunks than available threads. You can avoid it by setting the environment variable OMP_NUM_THREADS=2.\n",
      "  warnings.warn(\n"
     ]
    },
    {
     "data": {
      "text/plain": [
       "<matplotlib.collections.PathCollection at 0x182b48a47f0>"
      ]
     },
     "execution_count": 9,
     "metadata": {},
     "output_type": "execute_result"
    },
    {
     "data": {
      "image/png": "[encoded data removed]",
      "text/plain": [
       "<Figure size 720x432 with 1 Axes>"
      ]
     },
     "metadata": {
      "needs_background": "light"
     },
     "output_type": "display_data"
    }
   ],
   "source": [
    "sse=[]\n",
    "k=range(1,11)\n",
    "for i in range(1,11):\n",
    "    km_t=KMeans(n_clusters=i)\n",
    "    km_t.fit(X)\n",
    "    sse_temp=km_t.inertia_\n",
    "    sse.append(sse_temp)\n",
    "    \n",
    "    \n",
    "# plot\n",
    "plt.figure(figsize=(10,6))\n",
    "plt.plot(k,sse)\n",
    "\n",
    "# Best k value at the elbow (i.e. k=3 here)\n",
    "plt.scatter(3,sse[2],color='r',marker='o')"
   ]
  },
  {
   "cell_type": "code",
   "execution_count": 39,
   "id": "95658e11",
   "metadata": {},
   "outputs": [
    {
     "data": {
      "text/plain": [
       "<mpl_toolkits.mplot3d.art3d.Path3DCollection at 0x20ef9b99940>"
      ]
     },
     "execution_count": 39,
     "metadata": {},
     "output_type": "execute_result"
    },
    {
     "data": {
      "image/png": "[encoded data removed]",
      "text/plain": [
       "<Figure size 432x288 with 1 Axes>"
      ]
     },
     "metadata": {
      "needs_background": "light"
     },
     "output_type": "display_data"
    }
   ],
   "source": [
    "# 3D plot scatter\n",
    "from mpl_toolkits import mplot3d\n",
    "ax = plt.axes(projection =\"3d\")\n",
    "ax.scatter3D(dis.Gender,dis.Age,dis.Smoking)"
   ]
  },
  {
   "cell_type": "markdown",
   "id": "3ffd52d2",
   "metadata": {},
   "source": [
    "# SUPERVISED LEARNING ALGORITHIMS"
   ]
  }
 ],
 "metadata": {
  "kernelspec": {
   "display_name": "Python 3 (ipykernel)",
   "language": "python",
   "name": "python3"
  },
  "language_info": {
   "codemirror_mode": {
    "name": "ipython",
    "version": 3
   },
   "file_extension": ".py",
   "mimetype": "text/x-python",
   "name": "python",
   "nbconvert_exporter": "python",
   "pygments_lexer": "ipython3",
   "version": "3.9.7"
  }
 },
 "nbformat": 4,
 "nbformat_minor": 5
}

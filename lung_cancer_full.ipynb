{
 "cells": [
  {
   "cell_type": "markdown",
   "id": "9c1eacff",
   "metadata": {},
   "source": [
    "# LUNG CANCER DATASET\n",
    "\n",
    "\n",
    "The effectiveness of cancer prediction system helps the people to know their cancer risk with \n",
    "low cost and it also helps the people to take the appropriate decision based on their cancer risk status.\n",
    "The data is collected from the website online lung cancer prediction system .\n",
    "\n",
    "Total no. of attributes:16 No .of instances:284 Attribute information: 1. Gender: M(male), F(female) \n",
    "            2. Age: Age of the patient 3. Smoking: YES=2 , NO=1. 4. Yellow fingers: YES=2 , NO=1. \n",
    "            5. Anxiety: YES=2 , NO=1. 6. Peer_pressure: YES=2 , NO=1.\n",
    "            7. Chronic Disease: YES=2 , NO=1. 8. Fatigue: YES=2 , NO=1. \n",
    "            9. Allergy: YES=2 , NO=1. 10. Wheezing: YES=2 , NO=1. 11. Alcohol: YES=2 , NO=1. \n",
    "            12. Coughing: YES=2 , NO=1. 13. Shortness of Breath: YES=2 , NO=1. 14. Swallowing Difficulty: YES=2 , NO=1.\n",
    "            15. Chest pain: YES=2 , NO=1. 16. Lung Cancer: YES , NO."
   ]
  },
  {
   "cell_type": "code",
   "execution_count": 1,
   "id": "a8f04f1e",
   "metadata": {},
   "outputs": [],
   "source": [
    "# libraries\n",
    "import pandas as pd\n",
    "import numpy as np\n",
    "import matplotlib.pyplot as plt \n",
    "import seaborn as sn\n",
    "import warnings\n",
    "warnings.filterwarnings('ignore')"
   ]
  },
  {
   "cell_type": "code",
   "execution_count": 2,
   "id": "409fcb5a",
   "metadata": {},
   "outputs": [
    {
     "name": "stdout",
     "output_type": "stream",
     "text": [
      "  GENDER  AGE  SMOKING  YELLOW_FINGERS  ANXIETY  PEER_PRESSURE  \\\n",
      "0      M   69        1               2        2              1   \n",
      "1      M   74        2               1        1              1   \n",
      "2      F   59        1               1        1              2   \n",
      "3      M   63        2               2        2              1   \n",
      "4      F   63        1               2        1              1   \n",
      "\n",
      "   CHRONIC_DISEASE  FATIGUE  ALLERGY  WHEEZING  ALCOHOL_CONSUMING  COUGHING  \\\n",
      "0                1        2        1         2                  2         2   \n",
      "1                2        2        2         1                  1         1   \n",
      "2                1        2        1         2                  1         2   \n",
      "3                1        1        1         1                  2         1   \n",
      "4                1        1        1         2                  1         2   \n",
      "\n",
      "   SHORTNESS_BREATH  SWALLOWING_DIFFICULTY  CHEST_PAIN LUNG_CANCER  \n",
      "0                 2                      2           2         YES  \n",
      "1                 2                      2           2         YES  \n",
      "2                 2                      1           2          NO  \n",
      "3                 1                      2           2          NO  \n",
      "4                 2                      1           1          NO  \n"
     ]
    },
    {
     "data": {
      "text/plain": [
       "Index(['GENDER', 'AGE', 'SMOKING', 'YELLOW_FINGERS', 'ANXIETY',\n",
       "       'PEER_PRESSURE', 'CHRONIC_DISEASE', 'FATIGUE', 'ALLERGY', 'WHEEZING',\n",
       "       'ALCOHOL_CONSUMING', 'COUGHING', 'SHORTNESS_BREATH',\n",
       "       'SWALLOWING_DIFFICULTY', 'CHEST_PAIN', 'LUNG_CANCER'],\n",
       "      dtype='object')"
      ]
     },
     "execution_count": 2,
     "metadata": {},
     "output_type": "execute_result"
    }
   ],
   "source": [
    "# load data \n",
    "df=pd.read_csv(\"C://Users//rashi//OneDrive//Desktop//USC//Python//ML_tutorial//lung_cancer.csv\",header=0)\n",
    "\n",
    "print(df.head())\n",
    "\n",
    "df.columns"
   ]
  },
  {
   "cell_type": "markdown",
   "id": "dd1cf022",
   "metadata": {},
   "source": [
    "# EXPLORATORY DATA ANALYSIS"
   ]
  },
  {
   "cell_type": "code",
   "execution_count": 3,
   "id": "09c03bbf",
   "metadata": {},
   "outputs": [
    {
     "name": "stdout",
     "output_type": "stream",
     "text": [
      "<class 'pandas.core.frame.DataFrame'>\n",
      "RangeIndex: 309 entries, 0 to 308\n",
      "Data columns (total 16 columns):\n",
      " #   Column                 Non-Null Count  Dtype \n",
      "---  ------                 --------------  ----- \n",
      " 0   GENDER                 309 non-null    object\n",
      " 1   AGE                    309 non-null    int64 \n",
      " 2   SMOKING                309 non-null    int64 \n",
      " 3   YELLOW_FINGERS         309 non-null    int64 \n",
      " 4   ANXIETY                309 non-null    int64 \n",
      " 5   PEER_PRESSURE          309 non-null    int64 \n",
      " 6   CHRONIC_DISEASE        309 non-null    int64 \n",
      " 7   FATIGUE                309 non-null    int64 \n",
      " 8   ALLERGY                309 non-null    int64 \n",
      " 9   WHEEZING               309 non-null    int64 \n",
      " 10  ALCOHOL_CONSUMING      309 non-null    int64 \n",
      " 11  COUGHING               309 non-null    int64 \n",
      " 12  SHORTNESS_BREATH       309 non-null    int64 \n",
      " 13  SWALLOWING_DIFFICULTY  309 non-null    int64 \n",
      " 14  CHEST_PAIN             309 non-null    int64 \n",
      " 15  LUNG_CANCER            309 non-null    object\n",
      "dtypes: int64(14), object(2)\n",
      "memory usage: 38.8+ KB\n",
      "              AGE     SMOKING  YELLOW_FINGERS     ANXIETY  PEER_PRESSURE  \\\n",
      "count  309.000000  309.000000      309.000000  309.000000     309.000000   \n",
      "mean    62.673139    1.563107        1.569579    1.498382       1.501618   \n",
      "std      8.210301    0.496806        0.495938    0.500808       0.500808   \n",
      "min     21.000000    1.000000        1.000000    1.000000       1.000000   \n",
      "25%     57.000000    1.000000        1.000000    1.000000       1.000000   \n",
      "50%     62.000000    2.000000        2.000000    1.000000       2.000000   \n",
      "75%     69.000000    2.000000        2.000000    2.000000       2.000000   \n",
      "max     87.000000    2.000000        2.000000    2.000000       2.000000   \n",
      "\n",
      "       CHRONIC_DISEASE     FATIGUE     ALLERGY    WHEEZING  ALCOHOL_CONSUMING  \\\n",
      "count       309.000000  309.000000  309.000000  309.000000         309.000000   \n",
      "mean          1.504854    1.673139    1.556634    1.556634           1.556634   \n",
      "std           0.500787    0.469827    0.497588    0.497588           0.497588   \n",
      "min           1.000000    1.000000    1.000000    1.000000           1.000000   \n",
      "25%           1.000000    1.000000    1.000000    1.000000           1.000000   \n",
      "50%           2.000000    2.000000    2.000000    2.000000           2.000000   \n",
      "75%           2.000000    2.000000    2.000000    2.000000           2.000000   \n",
      "max           2.000000    2.000000    2.000000    2.000000           2.000000   \n",
      "\n",
      "         COUGHING  SHORTNESS_BREATH  SWALLOWING_DIFFICULTY  CHEST_PAIN  \n",
      "count  309.000000        309.000000             309.000000  309.000000  \n",
      "mean     1.579288          1.640777               1.469256    1.556634  \n",
      "std      0.494474          0.480551               0.499863    0.497588  \n",
      "min      1.000000          1.000000               1.000000    1.000000  \n",
      "25%      1.000000          1.000000               1.000000    1.000000  \n",
      "50%      2.000000          2.000000               1.000000    2.000000  \n",
      "75%      2.000000          2.000000               2.000000    2.000000  \n",
      "max      2.000000          2.000000               2.000000    2.000000  \n"
     ]
    }
   ],
   "source": [
    "df.info()\n",
    "\n",
    "print(df.describe())"
   ]
  },
  {
   "cell_type": "code",
   "execution_count": 4,
   "id": "e85a3b54",
   "metadata": {},
   "outputs": [
    {
     "data": {
      "text/plain": [
       "<AxesSubplot:xlabel='LUNG_CANCER', ylabel='count'>"
      ]
     },
     "execution_count": 4,
     "metadata": {},
     "output_type": "execute_result"
    },
    {
     "data": {
      "image/png": "[encoded data removed]",
      "text/plain": [
       "<Figure size 1152x1440 with 16 Axes>"
      ]
     },
     "metadata": {
      "needs_background": "light"
     },
     "output_type": "display_data"
    }
   ],
   "source": [
    "fig,ax=plt.subplots(4,4)\n",
    "fig.set_size_inches(16,20)\n",
    "\n",
    "sn.countplot(x=df.columns[0],data=df,ax=ax[0][0])\n",
    "sn.countplot(x=df.columns[1],data=df,ax=ax[0][1])\n",
    "sn.countplot(x=df.columns[2],data=df,ax=ax[0][2])\n",
    "sn.countplot(x=df.columns[3],data=df,ax=ax[0][3])\n",
    "sn.countplot(x=df.columns[4],data=df,ax=ax[1][0])\n",
    "sn.countplot(x=df.columns[5],data=df,ax=ax[1][1])\n",
    "sn.countplot(x=df.columns[6],data=df,ax=ax[1][2])\n",
    "sn.countplot(x=df.columns[7],data=df,ax=ax[1][3])\n",
    "sn.countplot(x=df.columns[8],data=df,ax=ax[2][0])\n",
    "sn.countplot(x=df.columns[9],data=df,ax=ax[2][1])\n",
    "sn.countplot(x=df.columns[10],data=df,ax=ax[2][2])\n",
    "sn.countplot(x=df.columns[11],data=df,ax=ax[2][3])\n",
    "sn.countplot(x=df.columns[12],data=df,ax=ax[3][0])\n",
    "sn.countplot(x=df.columns[13],data=df,ax=ax[3][1])\n",
    "sn.countplot(x=df.columns[14],data=df,ax=ax[3][2])\n",
    "sn.countplot(x=df.columns[15],data=df,ax=ax[3][3])"
   ]
  },
  {
   "cell_type": "code",
   "execution_count": 5,
   "id": "4ddbd057",
   "metadata": {},
   "outputs": [
    {
     "data": {
      "text/plain": [
       "Text(0.5, 1.0, 'Age Distribution')"
      ]
     },
     "execution_count": 5,
     "metadata": {},
     "output_type": "execute_result"
    },
    {
     "data": {
      "image/png": "[encoded data removed]",
      "text/plain": [
       "<Figure size 432x288 with 1 Axes>"
      ]
     },
     "metadata": {
      "needs_background": "light"
     },
     "output_type": "display_data"
    }
   ],
   "source": [
    "# Age distribution\n",
    "\n",
    "plt.hist(df.AGE,color='g')\n",
    "plt.xlabel('Age');plt.ylabel('Count')\n",
    "plt.title('Age Distribution')"
   ]
  },
  {
   "cell_type": "markdown",
   "id": "28e013bd",
   "metadata": {},
   "source": [
    "# CORRELATION PLOT\n",
    "\n",
    "To check the correlation of each variable with the output (target) variable\n",
    "\n"
   ]
  },
  {
   "cell_type": "code",
   "execution_count": 6,
   "id": "3701d0c6",
   "metadata": {},
   "outputs": [
    {
     "data": {
      "text/plain": [
       "Text(0.5, 1.0, 'Correlation Plot')"
      ]
     },
     "execution_count": 6,
     "metadata": {},
     "output_type": "execute_result"
    },
    {
     "data": {
      "image/png": "[encoded data removed]",
      "text/plain": [
       "<Figure size 1152x1152 with 2 Axes>"
      ]
     },
     "metadata": {
      "needs_background": "light"
     },
     "output_type": "display_data"
    }
   ],
   "source": [
    "#Cor plot\n",
    "import seaborn as sn\n",
    "\n",
    "df['LUNG_CANCER'] = df['LUNG_CANCER'].factorize(['NO','YES'])[0] # Change data type of target variable \n",
    "\n",
    "plt.figure(figsize = (16,16))\n",
    "sn.heatmap(df.corr(), annot = True, cmap =None)\n",
    "\n",
    "plt.title('Correlation Plot',fontsize=15)"
   ]
  },
  {
   "cell_type": "markdown",
   "id": "dfec3cdc",
   "metadata": {},
   "source": [
    "# Observations from Correaltion plot\n",
    "\n",
    "Smoking have low corr with lung cancer\n",
    "\n",
    "Allergy, Alcohol consumption and Swallowing difficulty have most corr with lung cancer "
   ]
  },
  {
   "cell_type": "markdown",
   "id": "c7411b15",
   "metadata": {},
   "source": [
    "# CHI-SQUARE TEST \n",
    "\n",
    "(if p value <0.05 or 5% then var1 is independent of var2 )\n",
    "\n",
    "-> make a cross tab\n",
    "\n",
    "   ct=pd.crosstab(df.var1,df.var2,margins=True)\n",
    "\n",
    "-> from scipy.stats import chi2_contingency\n",
    "   \n",
    "   chi2_contingency(val)[0:3] "
   ]
  },
  {
   "cell_type": "code",
   "execution_count": 13,
   "id": "1cbf1787",
   "metadata": {},
   "outputs": [
    {
     "data": {
      "text/html": [
       "<div>\n",
       "<style scoped>\n",
       "    .dataframe tbody tr th:only-of-type {\n",
       "        vertical-align: middle;\n",
       "    }\n",
       "\n",
       "    .dataframe tbody tr th {\n",
       "        vertical-align: top;\n",
       "    }\n",
       "\n",
       "    .dataframe thead th {\n",
       "        text-align: right;\n",
       "    }\n",
       "</style>\n",
       "<table border=\"1\" class=\"dataframe\">\n",
       "  <thead>\n",
       "    <tr style=\"text-align: right;\">\n",
       "      <th>LUNG_CANCER</th>\n",
       "      <th>0</th>\n",
       "      <th>1</th>\n",
       "      <th>All</th>\n",
       "    </tr>\n",
       "    <tr>\n",
       "      <th>SMOKING</th>\n",
       "      <th></th>\n",
       "      <th></th>\n",
       "      <th></th>\n",
       "    </tr>\n",
       "  </thead>\n",
       "  <tbody>\n",
       "    <tr>\n",
       "      <th>1</th>\n",
       "      <td>20</td>\n",
       "      <td>115</td>\n",
       "      <td>135</td>\n",
       "    </tr>\n",
       "    <tr>\n",
       "      <th>2</th>\n",
       "      <td>19</td>\n",
       "      <td>155</td>\n",
       "      <td>174</td>\n",
       "    </tr>\n",
       "    <tr>\n",
       "      <th>All</th>\n",
       "      <td>39</td>\n",
       "      <td>270</td>\n",
       "      <td>309</td>\n",
       "    </tr>\n",
       "  </tbody>\n",
       "</table>\n",
       "</div>"
      ],
      "text/plain": [
       "LUNG_CANCER   0    1  All\n",
       "SMOKING                  \n",
       "1            20  115  135\n",
       "2            19  155  174\n",
       "All          39  270  309"
      ]
     },
     "execution_count": 13,
     "metadata": {},
     "output_type": "execute_result"
    }
   ],
   "source": [
    "cancer_smoking = pd.crosstab(df['SMOKING'],df['LUNG_CANCER'],margins = True)\n",
    "cancer_smoking"
   ]
  },
  {
   "cell_type": "code",
   "execution_count": 14,
   "id": "4122fa8f",
   "metadata": {},
   "outputs": [
    {
     "data": {
      "text/plain": [
       "(1.0458978725262236, 0.5927699272702015, 2)"
      ]
     },
     "execution_count": 14,
     "metadata": {},
     "output_type": "execute_result"
    }
   ],
   "source": [
    "# CHI-SQUARE TEST \n",
    "\n",
    "from scipy.stats import chi2_contingency\n",
    "\n",
    "val = np.array([cancer_smoking.iloc[0][0:5].values,\n",
    "                  cancer_smoking.iloc[1][0:5].values])\n",
    "\n",
    "chi2_contingency(val)[0:3] # Chi_statistics, p-value, dof"
   ]
  },
  {
   "cell_type": "code",
   "execution_count": null,
   "id": "c6de1aff",
   "metadata": {},
   "outputs": [],
   "source": [
    "# Observation from chi-square test\n",
    "\n",
    "# As p value is gr than 0.05 then smoking is independent of Lung Cancer in this dataset."
   ]
  },
  {
   "cell_type": "markdown",
   "id": "df68e426",
   "metadata": {},
   "source": [
    "# Prepare Data "
   ]
  },
  {
   "cell_type": "code",
   "execution_count": 3,
   "id": "a914f0a5",
   "metadata": {},
   "outputs": [
    {
     "data": {
      "text/html": [
       "<div>\n",
       "<style scoped>\n",
       "    .dataframe tbody tr th:only-of-type {\n",
       "        vertical-align: middle;\n",
       "    }\n",
       "\n",
       "    .dataframe tbody tr th {\n",
       "        vertical-align: top;\n",
       "    }\n",
       "\n",
       "    .dataframe thead th {\n",
       "        text-align: right;\n",
       "    }\n",
       "</style>\n",
       "<table border=\"1\" class=\"dataframe\">\n",
       "  <thead>\n",
       "    <tr style=\"text-align: right;\">\n",
       "      <th></th>\n",
       "      <th>GENDER</th>\n",
       "      <th>AGE</th>\n",
       "      <th>SMOKING</th>\n",
       "      <th>YELLOW_FINGERS</th>\n",
       "      <th>ANXIETY</th>\n",
       "      <th>PEER_PRESSURE</th>\n",
       "      <th>CHRONIC_DISEASE</th>\n",
       "      <th>FATIGUE</th>\n",
       "      <th>ALLERGY</th>\n",
       "      <th>WHEEZING</th>\n",
       "      <th>ALCOHOL_CONSUMING</th>\n",
       "      <th>COUGHING</th>\n",
       "      <th>SHORTNESS_BREATH</th>\n",
       "      <th>SWALLOWING_DIFFICULTY</th>\n",
       "      <th>CHEST_PAIN</th>\n",
       "      <th>LUNG_CANCER</th>\n",
       "    </tr>\n",
       "  </thead>\n",
       "  <tbody>\n",
       "    <tr>\n",
       "      <th>0</th>\n",
       "      <td>0</td>\n",
       "      <td>69</td>\n",
       "      <td>1</td>\n",
       "      <td>2</td>\n",
       "      <td>2</td>\n",
       "      <td>1</td>\n",
       "      <td>1</td>\n",
       "      <td>2</td>\n",
       "      <td>1</td>\n",
       "      <td>2</td>\n",
       "      <td>2</td>\n",
       "      <td>2</td>\n",
       "      <td>2</td>\n",
       "      <td>2</td>\n",
       "      <td>2</td>\n",
       "      <td>YES</td>\n",
       "    </tr>\n",
       "    <tr>\n",
       "      <th>1</th>\n",
       "      <td>0</td>\n",
       "      <td>74</td>\n",
       "      <td>2</td>\n",
       "      <td>1</td>\n",
       "      <td>1</td>\n",
       "      <td>1</td>\n",
       "      <td>2</td>\n",
       "      <td>2</td>\n",
       "      <td>2</td>\n",
       "      <td>1</td>\n",
       "      <td>1</td>\n",
       "      <td>1</td>\n",
       "      <td>2</td>\n",
       "      <td>2</td>\n",
       "      <td>2</td>\n",
       "      <td>YES</td>\n",
       "    </tr>\n",
       "    <tr>\n",
       "      <th>2</th>\n",
       "      <td>1</td>\n",
       "      <td>59</td>\n",
       "      <td>1</td>\n",
       "      <td>1</td>\n",
       "      <td>1</td>\n",
       "      <td>2</td>\n",
       "      <td>1</td>\n",
       "      <td>2</td>\n",
       "      <td>1</td>\n",
       "      <td>2</td>\n",
       "      <td>1</td>\n",
       "      <td>2</td>\n",
       "      <td>2</td>\n",
       "      <td>1</td>\n",
       "      <td>2</td>\n",
       "      <td>NO</td>\n",
       "    </tr>\n",
       "    <tr>\n",
       "      <th>3</th>\n",
       "      <td>0</td>\n",
       "      <td>63</td>\n",
       "      <td>2</td>\n",
       "      <td>2</td>\n",
       "      <td>2</td>\n",
       "      <td>1</td>\n",
       "      <td>1</td>\n",
       "      <td>1</td>\n",
       "      <td>1</td>\n",
       "      <td>1</td>\n",
       "      <td>2</td>\n",
       "      <td>1</td>\n",
       "      <td>1</td>\n",
       "      <td>2</td>\n",
       "      <td>2</td>\n",
       "      <td>NO</td>\n",
       "    </tr>\n",
       "    <tr>\n",
       "      <th>4</th>\n",
       "      <td>1</td>\n",
       "      <td>63</td>\n",
       "      <td>1</td>\n",
       "      <td>2</td>\n",
       "      <td>1</td>\n",
       "      <td>1</td>\n",
       "      <td>1</td>\n",
       "      <td>1</td>\n",
       "      <td>1</td>\n",
       "      <td>2</td>\n",
       "      <td>1</td>\n",
       "      <td>2</td>\n",
       "      <td>2</td>\n",
       "      <td>1</td>\n",
       "      <td>1</td>\n",
       "      <td>NO</td>\n",
       "    </tr>\n",
       "    <tr>\n",
       "      <th>...</th>\n",
       "      <td>...</td>\n",
       "      <td>...</td>\n",
       "      <td>...</td>\n",
       "      <td>...</td>\n",
       "      <td>...</td>\n",
       "      <td>...</td>\n",
       "      <td>...</td>\n",
       "      <td>...</td>\n",
       "      <td>...</td>\n",
       "      <td>...</td>\n",
       "      <td>...</td>\n",
       "      <td>...</td>\n",
       "      <td>...</td>\n",
       "      <td>...</td>\n",
       "      <td>...</td>\n",
       "      <td>...</td>\n",
       "    </tr>\n",
       "    <tr>\n",
       "      <th>304</th>\n",
       "      <td>1</td>\n",
       "      <td>56</td>\n",
       "      <td>1</td>\n",
       "      <td>1</td>\n",
       "      <td>1</td>\n",
       "      <td>2</td>\n",
       "      <td>2</td>\n",
       "      <td>2</td>\n",
       "      <td>1</td>\n",
       "      <td>1</td>\n",
       "      <td>2</td>\n",
       "      <td>2</td>\n",
       "      <td>2</td>\n",
       "      <td>2</td>\n",
       "      <td>1</td>\n",
       "      <td>YES</td>\n",
       "    </tr>\n",
       "    <tr>\n",
       "      <th>305</th>\n",
       "      <td>0</td>\n",
       "      <td>70</td>\n",
       "      <td>2</td>\n",
       "      <td>1</td>\n",
       "      <td>1</td>\n",
       "      <td>1</td>\n",
       "      <td>1</td>\n",
       "      <td>2</td>\n",
       "      <td>2</td>\n",
       "      <td>2</td>\n",
       "      <td>2</td>\n",
       "      <td>2</td>\n",
       "      <td>2</td>\n",
       "      <td>1</td>\n",
       "      <td>2</td>\n",
       "      <td>YES</td>\n",
       "    </tr>\n",
       "    <tr>\n",
       "      <th>306</th>\n",
       "      <td>0</td>\n",
       "      <td>58</td>\n",
       "      <td>2</td>\n",
       "      <td>1</td>\n",
       "      <td>1</td>\n",
       "      <td>1</td>\n",
       "      <td>1</td>\n",
       "      <td>1</td>\n",
       "      <td>2</td>\n",
       "      <td>2</td>\n",
       "      <td>2</td>\n",
       "      <td>2</td>\n",
       "      <td>1</td>\n",
       "      <td>1</td>\n",
       "      <td>2</td>\n",
       "      <td>YES</td>\n",
       "    </tr>\n",
       "    <tr>\n",
       "      <th>307</th>\n",
       "      <td>0</td>\n",
       "      <td>67</td>\n",
       "      <td>2</td>\n",
       "      <td>1</td>\n",
       "      <td>2</td>\n",
       "      <td>1</td>\n",
       "      <td>1</td>\n",
       "      <td>2</td>\n",
       "      <td>2</td>\n",
       "      <td>1</td>\n",
       "      <td>2</td>\n",
       "      <td>2</td>\n",
       "      <td>2</td>\n",
       "      <td>1</td>\n",
       "      <td>2</td>\n",
       "      <td>YES</td>\n",
       "    </tr>\n",
       "    <tr>\n",
       "      <th>308</th>\n",
       "      <td>0</td>\n",
       "      <td>62</td>\n",
       "      <td>1</td>\n",
       "      <td>1</td>\n",
       "      <td>1</td>\n",
       "      <td>2</td>\n",
       "      <td>1</td>\n",
       "      <td>2</td>\n",
       "      <td>2</td>\n",
       "      <td>2</td>\n",
       "      <td>2</td>\n",
       "      <td>1</td>\n",
       "      <td>1</td>\n",
       "      <td>2</td>\n",
       "      <td>1</td>\n",
       "      <td>YES</td>\n",
       "    </tr>\n",
       "  </tbody>\n",
       "</table>\n",
       "<p>309 rows × 16 columns</p>\n",
       "</div>"
      ],
      "text/plain": [
       "     GENDER  AGE  SMOKING  YELLOW_FINGERS  ANXIETY  PEER_PRESSURE  \\\n",
       "0         0   69        1               2        2              1   \n",
       "1         0   74        2               1        1              1   \n",
       "2         1   59        1               1        1              2   \n",
       "3         0   63        2               2        2              1   \n",
       "4         1   63        1               2        1              1   \n",
       "..      ...  ...      ...             ...      ...            ...   \n",
       "304       1   56        1               1        1              2   \n",
       "305       0   70        2               1        1              1   \n",
       "306       0   58        2               1        1              1   \n",
       "307       0   67        2               1        2              1   \n",
       "308       0   62        1               1        1              2   \n",
       "\n",
       "     CHRONIC_DISEASE  FATIGUE  ALLERGY  WHEEZING  ALCOHOL_CONSUMING  COUGHING  \\\n",
       "0                  1        2        1         2                  2         2   \n",
       "1                  2        2        2         1                  1         1   \n",
       "2                  1        2        1         2                  1         2   \n",
       "3                  1        1        1         1                  2         1   \n",
       "4                  1        1        1         2                  1         2   \n",
       "..               ...      ...      ...       ...                ...       ...   \n",
       "304                2        2        1         1                  2         2   \n",
       "305                1        2        2         2                  2         2   \n",
       "306                1        1        2         2                  2         2   \n",
       "307                1        2        2         1                  2         2   \n",
       "308                1        2        2         2                  2         1   \n",
       "\n",
       "     SHORTNESS_BREATH  SWALLOWING_DIFFICULTY  CHEST_PAIN LUNG_CANCER  \n",
       "0                   2                      2           2         YES  \n",
       "1                   2                      2           2         YES  \n",
       "2                   2                      1           2          NO  \n",
       "3                   1                      2           2          NO  \n",
       "4                   2                      1           1          NO  \n",
       "..                ...                    ...         ...         ...  \n",
       "304                 2                      2           1         YES  \n",
       "305                 2                      1           2         YES  \n",
       "306                 1                      1           2         YES  \n",
       "307                 2                      1           2         YES  \n",
       "308                 1                      2           1         YES  \n",
       "\n",
       "[309 rows x 16 columns]"
      ]
     },
     "execution_count": 3,
     "metadata": {},
     "output_type": "execute_result"
    }
   ],
   "source": [
    "df_mod=df.replace({'M','F'},[0,1])\n",
    "df_mod"
   ]
  },
  {
   "cell_type": "code",
   "execution_count": 4,
   "id": "84f9f593",
   "metadata": {
    "scrolled": true
   },
   "outputs": [
    {
     "data": {
      "text/html": [
       "<div>\n",
       "<style scoped>\n",
       "    .dataframe tbody tr th:only-of-type {\n",
       "        vertical-align: middle;\n",
       "    }\n",
       "\n",
       "    .dataframe tbody tr th {\n",
       "        vertical-align: top;\n",
       "    }\n",
       "\n",
       "    .dataframe thead th {\n",
       "        text-align: right;\n",
       "    }\n",
       "</style>\n",
       "<table border=\"1\" class=\"dataframe\">\n",
       "  <thead>\n",
       "    <tr style=\"text-align: right;\">\n",
       "      <th></th>\n",
       "      <th>ALLERGY</th>\n",
       "      <th>ALCOHOL_CONSUMING</th>\n",
       "      <th>SWALLOWING_DIFFICULTY</th>\n",
       "      <th>WHEEZING</th>\n",
       "      <th>COUGHING</th>\n",
       "      <th>CHEST_PAIN</th>\n",
       "      <th>PEER_PRESSURE</th>\n",
       "    </tr>\n",
       "  </thead>\n",
       "  <tbody>\n",
       "    <tr>\n",
       "      <th>0</th>\n",
       "      <td>1</td>\n",
       "      <td>2</td>\n",
       "      <td>2</td>\n",
       "      <td>2</td>\n",
       "      <td>2</td>\n",
       "      <td>2</td>\n",
       "      <td>1</td>\n",
       "    </tr>\n",
       "    <tr>\n",
       "      <th>1</th>\n",
       "      <td>2</td>\n",
       "      <td>1</td>\n",
       "      <td>2</td>\n",
       "      <td>1</td>\n",
       "      <td>1</td>\n",
       "      <td>2</td>\n",
       "      <td>1</td>\n",
       "    </tr>\n",
       "    <tr>\n",
       "      <th>2</th>\n",
       "      <td>1</td>\n",
       "      <td>1</td>\n",
       "      <td>1</td>\n",
       "      <td>2</td>\n",
       "      <td>2</td>\n",
       "      <td>2</td>\n",
       "      <td>2</td>\n",
       "    </tr>\n",
       "    <tr>\n",
       "      <th>3</th>\n",
       "      <td>1</td>\n",
       "      <td>2</td>\n",
       "      <td>2</td>\n",
       "      <td>1</td>\n",
       "      <td>1</td>\n",
       "      <td>2</td>\n",
       "      <td>1</td>\n",
       "    </tr>\n",
       "    <tr>\n",
       "      <th>4</th>\n",
       "      <td>1</td>\n",
       "      <td>1</td>\n",
       "      <td>1</td>\n",
       "      <td>2</td>\n",
       "      <td>2</td>\n",
       "      <td>1</td>\n",
       "      <td>1</td>\n",
       "    </tr>\n",
       "    <tr>\n",
       "      <th>...</th>\n",
       "      <td>...</td>\n",
       "      <td>...</td>\n",
       "      <td>...</td>\n",
       "      <td>...</td>\n",
       "      <td>...</td>\n",
       "      <td>...</td>\n",
       "      <td>...</td>\n",
       "    </tr>\n",
       "    <tr>\n",
       "      <th>304</th>\n",
       "      <td>1</td>\n",
       "      <td>2</td>\n",
       "      <td>2</td>\n",
       "      <td>1</td>\n",
       "      <td>2</td>\n",
       "      <td>1</td>\n",
       "      <td>2</td>\n",
       "    </tr>\n",
       "    <tr>\n",
       "      <th>305</th>\n",
       "      <td>2</td>\n",
       "      <td>2</td>\n",
       "      <td>1</td>\n",
       "      <td>2</td>\n",
       "      <td>2</td>\n",
       "      <td>2</td>\n",
       "      <td>1</td>\n",
       "    </tr>\n",
       "    <tr>\n",
       "      <th>306</th>\n",
       "      <td>2</td>\n",
       "      <td>2</td>\n",
       "      <td>1</td>\n",
       "      <td>2</td>\n",
       "      <td>2</td>\n",
       "      <td>2</td>\n",
       "      <td>1</td>\n",
       "    </tr>\n",
       "    <tr>\n",
       "      <th>307</th>\n",
       "      <td>2</td>\n",
       "      <td>2</td>\n",
       "      <td>1</td>\n",
       "      <td>1</td>\n",
       "      <td>2</td>\n",
       "      <td>2</td>\n",
       "      <td>1</td>\n",
       "    </tr>\n",
       "    <tr>\n",
       "      <th>308</th>\n",
       "      <td>2</td>\n",
       "      <td>2</td>\n",
       "      <td>2</td>\n",
       "      <td>2</td>\n",
       "      <td>1</td>\n",
       "      <td>1</td>\n",
       "      <td>2</td>\n",
       "    </tr>\n",
       "  </tbody>\n",
       "</table>\n",
       "<p>309 rows × 7 columns</p>\n",
       "</div>"
      ],
      "text/plain": [
       "     ALLERGY  ALCOHOL_CONSUMING  SWALLOWING_DIFFICULTY  WHEEZING  COUGHING  \\\n",
       "0          1                  2                      2         2         2   \n",
       "1          2                  1                      2         1         1   \n",
       "2          1                  1                      1         2         2   \n",
       "3          1                  2                      2         1         1   \n",
       "4          1                  1                      1         2         2   \n",
       "..       ...                ...                    ...       ...       ...   \n",
       "304        1                  2                      2         1         2   \n",
       "305        2                  2                      1         2         2   \n",
       "306        2                  2                      1         2         2   \n",
       "307        2                  2                      1         1         2   \n",
       "308        2                  2                      2         2         1   \n",
       "\n",
       "     CHEST_PAIN  PEER_PRESSURE  \n",
       "0             2              1  \n",
       "1             2              1  \n",
       "2             2              2  \n",
       "3             2              1  \n",
       "4             1              1  \n",
       "..          ...            ...  \n",
       "304           1              2  \n",
       "305           2              1  \n",
       "306           2              1  \n",
       "307           2              1  \n",
       "308           1              2  \n",
       "\n",
       "[309 rows x 7 columns]"
      ]
     },
     "execution_count": 4,
     "metadata": {},
     "output_type": "execute_result"
    }
   ],
   "source": [
    "input_X=df_mod.drop('LUNG_CANCER',axis='columns')\n",
    "y=df.LUNG_CANCER\n",
    "\n",
    "\n",
    "input_X\n",
    "y\n",
    "\n",
    "# IMP VAR\n",
    "X_new=df[['ALLERGY','ALCOHOL_CONSUMING','SWALLOWING_DIFFICULTY','WHEEZING','COUGHING','CHEST_PAIN','PEER_PRESSURE']]\n",
    "X_new"
   ]
  },
  {
   "cell_type": "code",
   "execution_count": 5,
   "id": "354c983e",
   "metadata": {},
   "outputs": [
    {
     "data": {
      "text/html": [
       "<div>\n",
       "<style scoped>\n",
       "    .dataframe tbody tr th:only-of-type {\n",
       "        vertical-align: middle;\n",
       "    }\n",
       "\n",
       "    .dataframe tbody tr th {\n",
       "        vertical-align: top;\n",
       "    }\n",
       "\n",
       "    .dataframe thead th {\n",
       "        text-align: right;\n",
       "    }\n",
       "</style>\n",
       "<table border=\"1\" class=\"dataframe\">\n",
       "  <thead>\n",
       "    <tr style=\"text-align: right;\">\n",
       "      <th></th>\n",
       "      <th>ALLERGY_2</th>\n",
       "      <th>ALCOHOL_CONSUMING_2</th>\n",
       "      <th>SWALLOWING_DIFFICULTY_2</th>\n",
       "      <th>WHEEZING_2</th>\n",
       "      <th>COUGHING_2</th>\n",
       "      <th>CHEST_PAIN_2</th>\n",
       "      <th>PEER_PRESSURE_2</th>\n",
       "    </tr>\n",
       "  </thead>\n",
       "  <tbody>\n",
       "    <tr>\n",
       "      <th>0</th>\n",
       "      <td>0</td>\n",
       "      <td>1</td>\n",
       "      <td>1</td>\n",
       "      <td>1</td>\n",
       "      <td>1</td>\n",
       "      <td>1</td>\n",
       "      <td>0</td>\n",
       "    </tr>\n",
       "    <tr>\n",
       "      <th>1</th>\n",
       "      <td>1</td>\n",
       "      <td>0</td>\n",
       "      <td>1</td>\n",
       "      <td>0</td>\n",
       "      <td>0</td>\n",
       "      <td>1</td>\n",
       "      <td>0</td>\n",
       "    </tr>\n",
       "    <tr>\n",
       "      <th>2</th>\n",
       "      <td>0</td>\n",
       "      <td>0</td>\n",
       "      <td>0</td>\n",
       "      <td>1</td>\n",
       "      <td>1</td>\n",
       "      <td>1</td>\n",
       "      <td>1</td>\n",
       "    </tr>\n",
       "    <tr>\n",
       "      <th>3</th>\n",
       "      <td>0</td>\n",
       "      <td>1</td>\n",
       "      <td>1</td>\n",
       "      <td>0</td>\n",
       "      <td>0</td>\n",
       "      <td>1</td>\n",
       "      <td>0</td>\n",
       "    </tr>\n",
       "    <tr>\n",
       "      <th>4</th>\n",
       "      <td>0</td>\n",
       "      <td>0</td>\n",
       "      <td>0</td>\n",
       "      <td>1</td>\n",
       "      <td>1</td>\n",
       "      <td>0</td>\n",
       "      <td>0</td>\n",
       "    </tr>\n",
       "    <tr>\n",
       "      <th>...</th>\n",
       "      <td>...</td>\n",
       "      <td>...</td>\n",
       "      <td>...</td>\n",
       "      <td>...</td>\n",
       "      <td>...</td>\n",
       "      <td>...</td>\n",
       "      <td>...</td>\n",
       "    </tr>\n",
       "    <tr>\n",
       "      <th>304</th>\n",
       "      <td>0</td>\n",
       "      <td>1</td>\n",
       "      <td>1</td>\n",
       "      <td>0</td>\n",
       "      <td>1</td>\n",
       "      <td>0</td>\n",
       "      <td>1</td>\n",
       "    </tr>\n",
       "    <tr>\n",
       "      <th>305</th>\n",
       "      <td>1</td>\n",
       "      <td>1</td>\n",
       "      <td>0</td>\n",
       "      <td>1</td>\n",
       "      <td>1</td>\n",
       "      <td>1</td>\n",
       "      <td>0</td>\n",
       "    </tr>\n",
       "    <tr>\n",
       "      <th>306</th>\n",
       "      <td>1</td>\n",
       "      <td>1</td>\n",
       "      <td>0</td>\n",
       "      <td>1</td>\n",
       "      <td>1</td>\n",
       "      <td>1</td>\n",
       "      <td>0</td>\n",
       "    </tr>\n",
       "    <tr>\n",
       "      <th>307</th>\n",
       "      <td>1</td>\n",
       "      <td>1</td>\n",
       "      <td>0</td>\n",
       "      <td>0</td>\n",
       "      <td>1</td>\n",
       "      <td>1</td>\n",
       "      <td>0</td>\n",
       "    </tr>\n",
       "    <tr>\n",
       "      <th>308</th>\n",
       "      <td>1</td>\n",
       "      <td>1</td>\n",
       "      <td>1</td>\n",
       "      <td>1</td>\n",
       "      <td>0</td>\n",
       "      <td>0</td>\n",
       "      <td>1</td>\n",
       "    </tr>\n",
       "  </tbody>\n",
       "</table>\n",
       "<p>309 rows × 7 columns</p>\n",
       "</div>"
      ],
      "text/plain": [
       "     ALLERGY_2  ALCOHOL_CONSUMING_2  SWALLOWING_DIFFICULTY_2  WHEEZING_2  \\\n",
       "0            0                    1                        1           1   \n",
       "1            1                    0                        1           0   \n",
       "2            0                    0                        0           1   \n",
       "3            0                    1                        1           0   \n",
       "4            0                    0                        0           1   \n",
       "..         ...                  ...                      ...         ...   \n",
       "304          0                    1                        1           0   \n",
       "305          1                    1                        0           1   \n",
       "306          1                    1                        0           1   \n",
       "307          1                    1                        0           0   \n",
       "308          1                    1                        1           1   \n",
       "\n",
       "     COUGHING_2  CHEST_PAIN_2  PEER_PRESSURE_2  \n",
       "0             1             1                0  \n",
       "1             0             1                0  \n",
       "2             1             1                1  \n",
       "3             0             1                0  \n",
       "4             1             0                0  \n",
       "..          ...           ...              ...  \n",
       "304           1             0                1  \n",
       "305           1             1                0  \n",
       "306           1             1                0  \n",
       "307           1             1                0  \n",
       "308           0             0                1  \n",
       "\n",
       "[309 rows x 7 columns]"
      ]
     },
     "execution_count": 5,
     "metadata": {},
     "output_type": "execute_result"
    }
   ],
   "source": [
    "# dummies\n",
    "dummies=pd.get_dummies(data=X_new,columns=['ALLERGY','ALCOHOL_CONSUMING','SWALLOWING_DIFFICULTY','WHEEZING','COUGHING','CHEST_PAIN','PEER_PRESSURE'])\n",
    "\n",
    "# to escape dummy trap\n",
    "X=dummies.drop(['ALLERGY_1','ALCOHOL_CONSUMING_1','SWALLOWING_DIFFICULTY_1','WHEEZING_1','COUGHING_1','CHEST_PAIN_1','PEER_PRESSURE_1'],axis='columns')\n",
    "\n",
    "# final input with dummies \n",
    "X"
   ]
  },
  {
   "cell_type": "code",
   "execution_count": 6,
   "id": "aea7afba",
   "metadata": {},
   "outputs": [
    {
     "data": {
      "text/html": [
       "<div>\n",
       "<style scoped>\n",
       "    .dataframe tbody tr th:only-of-type {\n",
       "        vertical-align: middle;\n",
       "    }\n",
       "\n",
       "    .dataframe tbody tr th {\n",
       "        vertical-align: top;\n",
       "    }\n",
       "\n",
       "    .dataframe thead th {\n",
       "        text-align: right;\n",
       "    }\n",
       "</style>\n",
       "<table border=\"1\" class=\"dataframe\">\n",
       "  <thead>\n",
       "    <tr style=\"text-align: right;\">\n",
       "      <th></th>\n",
       "      <th>ALLERGY_2</th>\n",
       "      <th>ALCOHOL_CONSUMING_2</th>\n",
       "      <th>SWALLOWING_DIFFICULTY_2</th>\n",
       "      <th>WHEEZING_2</th>\n",
       "      <th>COUGHING_2</th>\n",
       "      <th>CHEST_PAIN_2</th>\n",
       "      <th>PEER_PRESSURE_2</th>\n",
       "    </tr>\n",
       "  </thead>\n",
       "  <tbody>\n",
       "    <tr>\n",
       "      <th>238</th>\n",
       "      <td>1</td>\n",
       "      <td>0</td>\n",
       "      <td>0</td>\n",
       "      <td>1</td>\n",
       "      <td>1</td>\n",
       "      <td>1</td>\n",
       "      <td>0</td>\n",
       "    </tr>\n",
       "    <tr>\n",
       "      <th>257</th>\n",
       "      <td>1</td>\n",
       "      <td>1</td>\n",
       "      <td>0</td>\n",
       "      <td>1</td>\n",
       "      <td>1</td>\n",
       "      <td>1</td>\n",
       "      <td>0</td>\n",
       "    </tr>\n",
       "    <tr>\n",
       "      <th>214</th>\n",
       "      <td>0</td>\n",
       "      <td>0</td>\n",
       "      <td>1</td>\n",
       "      <td>0</td>\n",
       "      <td>1</td>\n",
       "      <td>1</td>\n",
       "      <td>1</td>\n",
       "    </tr>\n",
       "    <tr>\n",
       "      <th>70</th>\n",
       "      <td>1</td>\n",
       "      <td>1</td>\n",
       "      <td>1</td>\n",
       "      <td>0</td>\n",
       "      <td>0</td>\n",
       "      <td>1</td>\n",
       "      <td>1</td>\n",
       "    </tr>\n",
       "    <tr>\n",
       "      <th>139</th>\n",
       "      <td>0</td>\n",
       "      <td>1</td>\n",
       "      <td>0</td>\n",
       "      <td>1</td>\n",
       "      <td>1</td>\n",
       "      <td>0</td>\n",
       "      <td>0</td>\n",
       "    </tr>\n",
       "    <tr>\n",
       "      <th>...</th>\n",
       "      <td>...</td>\n",
       "      <td>...</td>\n",
       "      <td>...</td>\n",
       "      <td>...</td>\n",
       "      <td>...</td>\n",
       "      <td>...</td>\n",
       "      <td>...</td>\n",
       "    </tr>\n",
       "    <tr>\n",
       "      <th>181</th>\n",
       "      <td>0</td>\n",
       "      <td>0</td>\n",
       "      <td>1</td>\n",
       "      <td>1</td>\n",
       "      <td>1</td>\n",
       "      <td>0</td>\n",
       "      <td>1</td>\n",
       "    </tr>\n",
       "    <tr>\n",
       "      <th>38</th>\n",
       "      <td>0</td>\n",
       "      <td>0</td>\n",
       "      <td>0</td>\n",
       "      <td>1</td>\n",
       "      <td>0</td>\n",
       "      <td>1</td>\n",
       "      <td>0</td>\n",
       "    </tr>\n",
       "    <tr>\n",
       "      <th>112</th>\n",
       "      <td>0</td>\n",
       "      <td>0</td>\n",
       "      <td>0</td>\n",
       "      <td>1</td>\n",
       "      <td>1</td>\n",
       "      <td>1</td>\n",
       "      <td>1</td>\n",
       "    </tr>\n",
       "    <tr>\n",
       "      <th>111</th>\n",
       "      <td>1</td>\n",
       "      <td>1</td>\n",
       "      <td>1</td>\n",
       "      <td>0</td>\n",
       "      <td>0</td>\n",
       "      <td>1</td>\n",
       "      <td>0</td>\n",
       "    </tr>\n",
       "    <tr>\n",
       "      <th>67</th>\n",
       "      <td>0</td>\n",
       "      <td>1</td>\n",
       "      <td>0</td>\n",
       "      <td>1</td>\n",
       "      <td>1</td>\n",
       "      <td>0</td>\n",
       "      <td>0</td>\n",
       "    </tr>\n",
       "  </tbody>\n",
       "</table>\n",
       "<p>93 rows × 7 columns</p>\n",
       "</div>"
      ],
      "text/plain": [
       "     ALLERGY_2  ALCOHOL_CONSUMING_2  SWALLOWING_DIFFICULTY_2  WHEEZING_2  \\\n",
       "238          1                    0                        0           1   \n",
       "257          1                    1                        0           1   \n",
       "214          0                    0                        1           0   \n",
       "70           1                    1                        1           0   \n",
       "139          0                    1                        0           1   \n",
       "..         ...                  ...                      ...         ...   \n",
       "181          0                    0                        1           1   \n",
       "38           0                    0                        0           1   \n",
       "112          0                    0                        0           1   \n",
       "111          1                    1                        1           0   \n",
       "67           0                    1                        0           1   \n",
       "\n",
       "     COUGHING_2  CHEST_PAIN_2  PEER_PRESSURE_2  \n",
       "238           1             1                0  \n",
       "257           1             1                0  \n",
       "214           1             1                1  \n",
       "70            0             1                1  \n",
       "139           1             0                0  \n",
       "..          ...           ...              ...  \n",
       "181           1             0                1  \n",
       "38            0             1                0  \n",
       "112           1             1                1  \n",
       "111           0             1                0  \n",
       "67            1             0                0  \n",
       "\n",
       "[93 rows x 7 columns]"
      ]
     },
     "execution_count": 6,
     "metadata": {},
     "output_type": "execute_result"
    }
   ],
   "source": [
    "# Test Train Split \n",
    "\n",
    "from sklearn.model_selection import train_test_split\n",
    "\n",
    "X_train,X_test,y_train,y_test=train_test_split(X,y,test_size=0.3,random_state=1)\n",
    "\n",
    "X_test"
   ]
  },
  {
   "cell_type": "markdown",
   "id": "1950fd38",
   "metadata": {},
   "source": [
    "# UNSUPERVISED ML: K MEANS CLUSTERING"
   ]
  },
  {
   "cell_type": "code",
   "execution_count": 7,
   "id": "b1ceabae",
   "metadata": {},
   "outputs": [
    {
     "data": {
      "text/plain": [
       "array([0, 1, 1, 1, 1, 0, 0, 1, 1, 0, 1, 0, 1, 0, 0, 1, 0, 1, 1, 1, 1, 1,\n",
       "       1, 0, 0, 0, 0, 1, 0, 0, 1, 0, 1, 1, 1, 1, 0, 1, 1, 0, 0, 0, 1, 0,\n",
       "       1, 0, 0, 0, 0, 1, 0, 1, 0, 0, 0, 0, 1, 0, 1, 0, 0, 1, 0, 0, 0, 1,\n",
       "       0, 0, 1, 1, 0, 1, 0, 1, 0, 0, 0, 0, 1, 1, 1, 1, 0, 0, 0, 0, 0, 1,\n",
       "       0, 0, 0, 0, 0, 0, 0, 1, 0, 1, 1, 0, 0, 0, 0, 1, 1, 1, 1, 0, 0, 0,\n",
       "       0, 0, 1, 1, 0, 0, 0, 1, 1, 0, 1, 0, 1, 0, 0, 1, 0, 1, 1, 1, 1, 1,\n",
       "       1, 0, 0, 0, 1, 1, 0, 0, 1, 0, 1, 0, 0, 1, 0, 1, 0, 0, 0, 0, 1, 1,\n",
       "       1, 1, 1, 1, 0, 1, 0, 1, 0, 0, 0, 0, 1, 0, 1, 0, 0, 1, 0, 0, 0, 1,\n",
       "       0, 0, 1, 1, 0, 1, 0, 1, 0, 0, 1, 1, 1, 1, 1, 1, 1, 1, 0, 0, 0, 1,\n",
       "       0, 0, 0, 0, 0, 0, 0, 1, 0, 1, 1, 0, 0, 0, 0, 1, 1, 1, 1, 0, 0, 0,\n",
       "       0, 1, 0, 1, 0, 0, 0, 0, 1, 0, 1, 0, 0, 1, 0, 0, 0, 1, 0, 1, 1, 0,\n",
       "       0, 0, 1, 1, 0, 0, 1, 1, 1, 0, 0, 1, 0, 1, 0, 0, 0, 0, 1, 0, 1, 0,\n",
       "       0, 1, 1, 0, 1, 0, 1, 0, 0, 1, 0, 1, 1, 1, 1, 1, 1, 1, 1, 0, 1, 1,\n",
       "       1, 1, 1, 1, 0, 0, 0, 1, 1, 0, 0, 1, 0, 1, 0, 0, 1, 0, 1, 0, 0, 0,\n",
       "       0])"
      ]
     },
     "execution_count": 7,
     "metadata": {},
     "output_type": "execute_result"
    }
   ],
   "source": [
    "# KMeans Clustering\n",
    "\n",
    "from sklearn.cluster import KMeans\n",
    "\n",
    "km=KMeans(n_clusters=2)\n",
    "\n",
    "# fit \n",
    "km.fit(X)\n",
    "\n",
    "# predict\n",
    "y_pred_km=km.predict(X)\n",
    "y_pred_km"
   ]
  },
  {
   "cell_type": "code",
   "execution_count": 8,
   "id": "2f9c0e6f",
   "metadata": {},
   "outputs": [
    {
     "name": "stdout",
     "output_type": "stream",
     "text": [
      "[534.5501618122979, 420.7187235841082, 359.90955321862856, 312.82549198389256, 289.3962417252926, 266.59594801082795, 248.59142961835926, 227.65728336007425, 219.33644413904358, 201.56898116907416]\n"
     ]
    },
    {
     "data": {
      "text/plain": [
       "Text(0.5, 1.0, 'Elbow Plot')"
      ]
     },
     "execution_count": 8,
     "metadata": {},
     "output_type": "execute_result"
    },
    {
     "data": {
      "image/png": "[encoded data removed]",
      "text/plain": [
       "<Figure size 720x432 with 1 Axes>"
      ]
     },
     "metadata": {
      "needs_background": "light"
     },
     "output_type": "display_data"
    }
   ],
   "source": [
    "# Elbow technique ( to get best k value)\n",
    "\n",
    "sse=[]\n",
    "k=range(1,11)\n",
    "for i in range(1,11):\n",
    "    km=KMeans(n_clusters=i)  # k value\n",
    "    km.fit(X)\n",
    "    sse_temp=km.inertia_\n",
    "    sse.append(sse_temp)\n",
    "\n",
    "print(sse)\n",
    "\n",
    "# plot elbow \n",
    "plt.figure(figsize=(10,6))\n",
    "plt.plot(k,sse)\n",
    "plt.xlabel('K');plt.ylabel('SSE');plt.title('Elbow Plot')"
   ]
  },
  {
   "cell_type": "markdown",
   "id": "7db51f6e",
   "metadata": {},
   "source": [
    "# SUPERVISED ML ALGORTHMS"
   ]
  },
  {
   "cell_type": "markdown",
   "id": "8977a0f2",
   "metadata": {},
   "source": [
    "# Logistic Regression "
   ]
  },
  {
   "cell_type": "code",
   "execution_count": 9,
   "id": "444141ef",
   "metadata": {},
   "outputs": [
    {
     "name": "stdout",
     "output_type": "stream",
     "text": [
      "The score of the LR model is: 88.17 %\n"
     ]
    },
    {
     "data": {
      "text/plain": [
       "array(['YES', 'YES', 'YES', 'YES', 'YES', 'YES', 'YES', 'YES', 'YES',\n",
       "       'YES', 'YES', 'YES', 'NO', 'NO', 'YES', 'YES', 'YES', 'YES', 'YES',\n",
       "       'YES', 'YES', 'YES', 'YES', 'YES', 'YES', 'YES', 'YES', 'YES',\n",
       "       'YES', 'NO', 'NO', 'YES', 'YES', 'YES', 'YES', 'YES', 'YES', 'YES',\n",
       "       'YES', 'YES', 'YES', 'YES', 'YES', 'YES', 'NO', 'YES', 'YES',\n",
       "       'YES', 'YES', 'YES', 'YES', 'YES', 'YES', 'YES', 'YES', 'YES',\n",
       "       'YES', 'YES', 'YES', 'YES', 'YES', 'YES', 'YES', 'YES', 'YES',\n",
       "       'YES', 'YES', 'YES', 'YES', 'YES', 'YES', 'YES', 'YES', 'YES',\n",
       "       'YES', 'YES', 'YES', 'YES', 'YES', 'YES', 'YES', 'YES', 'YES',\n",
       "       'YES', 'YES', 'YES', 'YES', 'YES', 'YES', 'NO', 'YES', 'YES',\n",
       "       'YES'], dtype=object)"
      ]
     },
     "execution_count": 9,
     "metadata": {},
     "output_type": "execute_result"
    }
   ],
   "source": [
    "from sklearn.linear_model import LogisticRegression\n",
    "model_lr = LogisticRegression()\n",
    "\n",
    "# train model\n",
    "model_lr.fit(X_train,y_train)\n",
    "\n",
    "# prediction \n",
    "y_pred_lr=model_lr.predict(X_test)\n",
    "\n",
    "# score\n",
    "acc_lr=model_lr.score(X_test,y_test)\n",
    "print(\"The score of the LR model is:\",round(acc_lr*100,2),\"%\")\n",
    "\n",
    "# y_pred\n",
    "y_pred_lr"
   ]
  },
  {
   "cell_type": "code",
   "execution_count": 10,
   "id": "ad792a9b",
   "metadata": {},
   "outputs": [
    {
     "name": "stdout",
     "output_type": "stream",
     "text": [
      "[[ 2  7]\n",
      " [ 4 80]]\n"
     ]
    }
   ],
   "source": [
    "# Evaluation metrics\n",
    "\n",
    "# Confusion matrix\n",
    "from sklearn.metrics import confusion_matrix\n",
    "from sklearn.metrics import accuracy_score\n",
    "from sklearn.metrics import f1_score\n",
    "\n",
    "cm_lr=confusion_matrix(y_test,y_pred_lr)\n",
    "print(cm_lr)"
   ]
  },
  {
   "cell_type": "code",
   "execution_count": 11,
   "id": "eb9d209e",
   "metadata": {},
   "outputs": [
    {
     "data": {
      "text/plain": [
       "Text(69.0, 0.5, 'Ground Truth')"
      ]
     },
     "execution_count": 11,
     "metadata": {},
     "output_type": "execute_result"
    },
    {
     "data": {
      "image/png": "[encoded data removed]",
      "text/plain": [
       "<Figure size 720x432 with 2 Axes>"
      ]
     },
     "metadata": {
      "needs_background": "light"
     },
     "output_type": "display_data"
    }
   ],
   "source": [
    "# heatmap of the matrix\n",
    "import seaborn as sn\n",
    "\n",
    "plt.figure(figsize=(10,6))\n",
    "sn.heatmap(cm_lr,annot=True,fmt='g',cmap='Reds',xticklabels=['No Lung Cancer','Lung Cancer'],yticklabels=['No Lung Cancer','Lung Cancer'])\n",
    "plt.xlabel('Predicted');plt.ylabel('Ground Truth')"
   ]
  },
  {
   "cell_type": "markdown",
   "id": "9e8a4258",
   "metadata": {},
   "source": [
    "# Decision Tree Classifier"
   ]
  },
  {
   "cell_type": "code",
   "execution_count": 12,
   "id": "c9da2767",
   "metadata": {},
   "outputs": [
    {
     "data": {
      "text/plain": [
       "DecisionTreeClassifier()"
      ]
     },
     "execution_count": 12,
     "metadata": {},
     "output_type": "execute_result"
    }
   ],
   "source": [
    "# Using Decision Tree\n",
    "\n",
    "from sklearn import tree\n",
    "model_dt=tree.DecisionTreeClassifier()\n",
    "\n",
    "model_dt.fit(X_train,y_train)"
   ]
  },
  {
   "cell_type": "code",
   "execution_count": 13,
   "id": "9b0729ba",
   "metadata": {},
   "outputs": [
    {
     "name": "stdout",
     "output_type": "stream",
     "text": [
      "The score of the Decision Tree model is: 90.32%\n"
     ]
    }
   ],
   "source": [
    "# score of model\n",
    "acc_dt=model_dt.score(X_test,y_test)\n",
    "print(f\"The score of the Decision Tree model is: {round(acc_dt*100,2)}%\")\n",
    "\n",
    "y_pred_dt=model_dt.predict(X_test)"
   ]
  },
  {
   "cell_type": "code",
   "execution_count": 14,
   "id": "d498a4c4",
   "metadata": {},
   "outputs": [
    {
     "name": "stdout",
     "output_type": "stream",
     "text": [
      "[[ 4  5]\n",
      " [ 4 80]]\n"
     ]
    }
   ],
   "source": [
    "# Confusion matrix\n",
    "from sklearn.metrics import confusion_matrix\n",
    "\n",
    "cm_dt=confusion_matrix(y_test,y_pred_dt)\n",
    "print(cm_dt)"
   ]
  },
  {
   "cell_type": "markdown",
   "id": "fbcf89d4",
   "metadata": {},
   "source": [
    "# Random Forrest Classifier"
   ]
  },
  {
   "cell_type": "code",
   "execution_count": 15,
   "id": "9d5132f6",
   "metadata": {},
   "outputs": [
    {
     "name": "stdout",
     "output_type": "stream",
     "text": [
      "The score of the Random Forest Classifier is: 90.32%\n"
     ]
    }
   ],
   "source": [
    "from sklearn.ensemble import RandomForestClassifier\n",
    "model_rf=RandomForestClassifier(n_estimators=400)\n",
    "\n",
    "# train model\n",
    "model_rf.fit(X_train,y_train)\n",
    "\n",
    "# prediction\n",
    "y_pred_rf=model_rf.predict(X_test)\n",
    "\n",
    "# score\n",
    "acc_rf=model_rf.score(X_test,y_test)\n",
    "print(f\"The score of the Random Forest Classifier is: {round(acc_rf*100,2)}%\")"
   ]
  },
  {
   "cell_type": "code",
   "execution_count": 16,
   "id": "e67d34b1",
   "metadata": {},
   "outputs": [
    {
     "name": "stdout",
     "output_type": "stream",
     "text": [
      "[[ 4  5]\n",
      " [ 4 80]]\n"
     ]
    }
   ],
   "source": [
    "# Confusion matrix\n",
    "\n",
    "cm_rf=confusion_matrix(y_test,y_pred_rf)\n",
    "print(cm_rf)"
   ]
  },
  {
   "cell_type": "code",
   "execution_count": 19,
   "id": "d207fc5f",
   "metadata": {},
   "outputs": [
    {
     "data": {
      "text/plain": [
       "Text(69.0, 0.5, 'Ground Truth')"
      ]
     },
     "execution_count": 19,
     "metadata": {},
     "output_type": "execute_result"
    },
    {
     "data": {
      "image/png": "[encoded data removed]",
      "text/plain": [
       "<Figure size 720x432 with 2 Axes>"
      ]
     },
     "metadata": {
      "needs_background": "light"
     },
     "output_type": "display_data"
    }
   ],
   "source": [
    "# heatmap of the matrix\n",
    "import seaborn as sn\n",
    "\n",
    "plt.figure(figsize=(10,6))\n",
    "sn.heatmap(cm_rf,annot=True,fmt='g',cmap='Reds',xticklabels=['No Lung Cancer','Lung Cancer'],yticklabels=['No Lung Cancer','Lung Cancer'])\n",
    "plt.xlabel('Predicted');plt.ylabel('Ground Truth')"
   ]
  },
  {
   "cell_type": "markdown",
   "id": "12d1511a",
   "metadata": {},
   "source": [
    "# Support Vector Machines(SVM)"
   ]
  },
  {
   "cell_type": "code",
   "execution_count": 17,
   "id": "cee44c3f",
   "metadata": {},
   "outputs": [],
   "source": [
    "# SVM model\n",
    "\n",
    "from sklearn.svm import SVC\n",
    "\n",
    "\n",
    "#\n",
    "model_svm=SVC(C=10,gamma=1,kernel='rbf')\n",
    "\n",
    "# train model\n",
    "model_svm.fit(X_train,y_train)\n",
    "\n",
    "# predict\n",
    "y_pred_svm=model_svm.predict(X_test)\n",
    "\n",
    "#accuracy \n",
    "acc_svm=model_svm.score(X_test,y_test)"
   ]
  },
  {
   "cell_type": "code",
   "execution_count": 18,
   "id": "b103fe17",
   "metadata": {},
   "outputs": [
    {
     "data": {
      "text/plain": [
       "Text(69.0, 0.5, 'Ground Truth')"
      ]
     },
     "execution_count": 18,
     "metadata": {},
     "output_type": "execute_result"
    },
    {
     "data": {
      "image/png": "[encoded data removed]",
      "text/plain": [
       "<Figure size 720x432 with 2 Axes>"
      ]
     },
     "metadata": {
      "needs_background": "light"
     },
     "output_type": "display_data"
    }
   ],
   "source": [
    "cm_svm=confusion_matrix(y_test,y_pred_svm)\n",
    "cm_svm\n",
    "\n",
    "# heatmap of cm_svm\n",
    "import seaborn as sn\n",
    "\n",
    "plt.figure(figsize=(10,6))\n",
    "\n",
    "sn.heatmap(cm_svm,annot=True,xticklabels=['No Lung Cancer','Lung Cancer'],yticklabels=['No Lung Cancer','Lung Cancer'])\n",
    "plt.xlabel('Predicted');plt.ylabel('Ground Truth')"
   ]
  },
  {
   "cell_type": "markdown",
   "id": "642c636a",
   "metadata": {},
   "source": [
    "# K FOLD CROSS VALIDATION"
   ]
  },
  {
   "cell_type": "code",
   "execution_count": 19,
   "id": "7a816bb9",
   "metadata": {},
   "outputs": [
    {
     "name": "stdout",
     "output_type": "stream",
     "text": [
      "The mean score of Support Vector Machines by KFOLD is: 90.30142781597038%\n"
     ]
    }
   ],
   "source": [
    "from sklearn.model_selection import cross_val_score\n",
    "\n",
    "score_svm_kf=cross_val_score(SVC(),X,y)\n",
    "score_svm_kf\n",
    "\n",
    "print(f\"The mean score of Support Vector Machines by KFOLD is: {score_svm_kf.mean()*100}%\")"
   ]
  },
  {
   "cell_type": "code",
   "execution_count": 20,
   "id": "72a9f253",
   "metadata": {},
   "outputs": [
    {
     "name": "stdout",
     "output_type": "stream",
     "text": [
      "The mean score of Random Forest by KFOLD is: 88.99999999999999%\n"
     ]
    }
   ],
   "source": [
    "score_rf_kf=cross_val_score(RandomForestClassifier(),X,y,cv=15)\n",
    "score_rf_kf\n",
    "\n",
    "print(f\"The mean score of Random Forest by KFOLD is: {score_rf_kf.mean()*100}%\")"
   ]
  },
  {
   "cell_type": "code",
   "execution_count": 24,
   "id": "e71c27ab",
   "metadata": {},
   "outputs": [
    {
     "name": "stdout",
     "output_type": "stream",
     "text": [
      "The mean score of Decision Tree by KFOLD is: 88.03807509254362%\n"
     ]
    }
   ],
   "source": [
    "score_dt_kf=cross_val_score(tree.DecisionTreeClassifier(),X,y)\n",
    "score_dt_kf\n",
    "\n",
    "print(f\"The mean score of Decision Tree by KFOLD is: {score_dt_kf.mean()*100}%\")"
   ]
  },
  {
   "cell_type": "code",
   "execution_count": 25,
   "id": "a1c32344",
   "metadata": {},
   "outputs": [
    {
     "name": "stdout",
     "output_type": "stream",
     "text": [
      "The mean score of Logistic Regression by KFOLD is: 89.65626652564781%\n"
     ]
    }
   ],
   "source": [
    "score_lr_kf = cross_val_score(LogisticRegression(),X,y)\n",
    "score_lr_kf\n",
    "\n",
    "print(f\"The mean score of Logistic Regression by KFOLD is: {score_lr_kf.mean()*100}%\")"
   ]
  },
  {
   "cell_type": "markdown",
   "id": "85b8fb39",
   "metadata": {},
   "source": [
    "# Performance of ML Algorithms"
   ]
  },
  {
   "cell_type": "code",
   "execution_count": 26,
   "id": "a0c1c864",
   "metadata": {},
   "outputs": [
    {
     "data": {
      "text/plain": [
       "Text(0.5, 1.0, 'Performance of ML Algorithms')"
      ]
     },
     "execution_count": 26,
     "metadata": {},
     "output_type": "execute_result"
    },
    {
     "data": {
      "image/png": "[encoded data removed]",
      "text/plain": [
       "<Figure size 720x504 with 1 Axes>"
      ]
     },
     "metadata": {
      "needs_background": "light"
     },
     "output_type": "display_data"
    }
   ],
   "source": [
    "\n",
    "score=[acc_lr*100,acc_svm*100,acc_rf*100,acc_dt*100,score_lr_kf.mean()*100,score_svm_kf.mean()*100,score_rf_kf.mean()*100,score_dt_kf.mean()*100]\n",
    "a=['Logistic_Regression','Support_Vector_Machine','Random_Forest','Decision_Tree','KFold_LogisticRegression','KF_SVM','KF_RF','KF_DT']\n",
    "\n",
    "\n",
    "plt.figure(figsize=(10,7))\n",
    "sn.barplot(score,a,orient='h')\n",
    "plt.xlabel('Accuracy(%)');plt.ylabel('ML Algorithm');plt.title('Performance of ML Algorithms',fontsize=15)"
   ]
  },
  {
   "cell_type": "markdown",
   "id": "ab29fecc",
   "metadata": {},
   "source": [
    "# Principle Component Analysis (PCA): Dimensionality Reduction"
   ]
  },
  {
   "cell_type": "code",
   "execution_count": 22,
   "id": "09f7b24b",
   "metadata": {},
   "outputs": [
    {
     "data": {
      "text/plain": [
       "(309, 5)"
      ]
     },
     "execution_count": 22,
     "metadata": {},
     "output_type": "execute_result"
    }
   ],
   "source": [
    "from sklearn.decomposition import PCA\n",
    "\n",
    "pca=PCA(0.8)\n",
    "\n",
    "X_pca=pca.fit_transform(X)\n",
    "\n",
    "np.shape(X_pca)"
   ]
  },
  {
   "cell_type": "code",
   "execution_count": 23,
   "id": "8d1604fd",
   "metadata": {},
   "outputs": [
    {
     "data": {
      "text/plain": [
       "array([[-0.63031556,  0.50264959, -0.2033261 ,  0.02289751, -0.41129892],\n",
       "       [-1.13024175,  0.36373733,  0.03838675,  0.04866407, -0.07580416],\n",
       "       [ 0.62122975, -0.51256942, -0.10264425,  0.21840055, -0.92249816],\n",
       "       [ 0.09002879, -0.81387197,  0.95961593, -0.3657159 ,  0.02478543],\n",
       "       [-0.32373349,  0.69842269, -0.67186008,  0.42782142,  0.37953789],\n",
       "       [-0.55981486, -0.26133565, -0.17220402,  0.99645377,  0.02204578],\n",
       "       [ 0.1858899 ,  0.63716733,  0.90316144, -0.18849936, -0.25661248],\n",
       "       [-0.0753791 ,  0.21308026, -0.13430364, -1.05137579, -0.04897695],\n",
       "       [ 0.14491792,  0.67494467, -0.09302562, -0.20782816,  0.65583196],\n",
       "       [-0.61883467, -0.11704308, -0.4298832 , -0.07821   ,  0.83845651],\n",
       "       [ 1.25880037,  0.37999503, -0.00803683, -0.23320425, -0.13375156],\n",
       "       [ 0.58025777, -0.47479208, -1.09883131,  0.19907176, -0.01005372],\n",
       "       [ 0.99239816,  0.9718527 ,  0.1929146 ,  0.19065799,  0.19872957],\n",
       "       [ 0.99239816,  0.9718527 ,  0.1929146 ,  0.19065799,  0.19872957],\n",
       "       [ 0.52279282, -0.71867557,  0.7333321 ,  0.36119466, -0.15574891],\n",
       "       [-0.61883467, -0.11704308, -0.4298832 , -0.07821   ,  0.83845651],\n",
       "       [ 0.58025777, -0.47479208, -1.09883131,  0.19907176, -0.01005372],\n",
       "       [-0.32468742, -1.0155836 ,  0.44739188, -0.03729149,  0.30135349],\n",
       "       [-0.44912332, -0.02640871,  0.34965937, -0.70362258, -0.68485334],\n",
       "       [ 0.85731112,  0.44718892, -0.60230032, -0.35023179, -0.56500605],\n",
       "       [ 0.04905681, -0.77609463, -0.03657113, -0.3850447 ,  0.93722988],\n",
       "       [-1.13024175,  0.36373733,  0.03838675,  0.04866407, -0.07580416],\n",
       "       [ 0.9636992 , -0.43547073,  0.23394006, -0.73923567,  0.32516706],\n",
       "       [ 0.52279282, -0.71867557,  0.7333321 ,  0.36119466, -0.15574891],\n",
       "       [-0.18607063, -0.02184668, -0.65616703,  0.64870056,  0.65792217],\n",
       "       [ 1.022719  , -0.57976331,  0.49161924,  0.3354281 , -0.49124367],\n",
       "       [-1.13024175,  0.36373733,  0.03838675,  0.04866407, -0.07580416],\n",
       "       [ 0.09002879, -0.81387197,  0.95961593, -0.3657159 ,  0.02478543],\n",
       "       [-0.86383953, -0.22812034, -0.16256467, -0.37519817, -0.40828528],\n",
       "       [ 0.99239816,  0.9718527 ,  0.1929146 ,  0.19065799,  0.19872957],\n",
       "       [ 0.99239816,  0.9718527 ,  0.1929146 ,  0.19065799,  0.19872957],\n",
       "       [-0.59108964, -0.42372593,  0.64834331,  0.38657075,  0.63383461],\n",
       "       [ 0.06885069,  0.00598832, -0.63056136,  0.32594583, -0.92431439],\n",
       "       [-0.0753791 ,  0.21308026, -0.13430364, -1.05137579, -0.04897695],\n",
       "       [-0.32373349,  0.69842269, -0.67186008,  0.42782142,  0.37953789],\n",
       "       [ 0.6080028 , -0.78147494, -0.0206048 ,  0.66385251, -0.21467561],\n",
       "       [-0.75649752,  0.60322629, -0.44557626, -0.29908914,  0.56007223],\n",
       "       [ 0.52279282, -0.71867557,  0.7333321 ,  0.36119466, -0.15574891],\n",
       "       [ 0.10807661, -0.9203872 ,  0.22110805,  0.68961907,  0.12081915],\n",
       "       [ 0.85731112,  0.44718892, -0.60230032, -0.35023179, -0.56500605],\n",
       "       [-0.44912332, -0.02640871,  0.34965937, -0.70362258, -0.68485334],\n",
       "       [-0.75649752,  0.60322629, -0.44557626, -0.29908914,  0.56007223],\n",
       "       [-0.32468742, -1.0155836 ,  0.44739188, -0.03729149,  0.30135349],\n",
       "       [ 0.6080028 , -0.78147494, -0.0206048 ,  0.66385251, -0.21467561],\n",
       "       [ 0.99239816,  0.9718527 ,  0.1929146 ,  0.19065799,  0.19872957],\n",
       "       [-0.49009531,  0.01136863, -0.64652768, -0.72295137,  0.22759111],\n",
       "       [ 0.34160058, -0.18961727,  0.18034662,  1.08771475,  0.11780551],\n",
       "       [-0.71552554,  0.56544896,  0.5506108 , -0.27976034, -0.35237221],\n",
       "       [-0.25657134,  0.74213856, -0.68728911, -0.3248557 ,  0.22457747],\n",
       "       [-0.72617667, -0.94838971, -0.14687162, -0.15431903, -0.12990101],\n",
       "       [ 0.17619269,  0.83733496, -0.91357294,  0.40205486,  0.04404313],\n",
       "       [ 0.6080028 , -0.78147494, -0.0206048 ,  0.66385251, -0.21467561],\n",
       "       [ 0.05970794,  0.73774404,  0.66091129, -0.51048601,  0.71475867],\n",
       "       [ 0.14491792,  0.67494467, -0.09302562, -0.20782816,  0.65583196],\n",
       "       [-1.13024175,  0.36373733,  0.03838675,  0.04866407, -0.07580416],\n",
       "       [ 0.47033994, -0.06120557, -0.03629786,  0.44297337, -0.49305989],\n",
       "       [ 0.09002879, -0.81387197,  0.95961593, -0.3657159 ,  0.02478543],\n",
       "       [-0.35243245, -0.70890074, -0.63083463, -0.50207224,  0.50597538],\n",
       "       [-1.13024175,  0.36373733,  0.03838675,  0.04866407, -0.07580416],\n",
       "       [ 0.09002879, -0.81387197,  0.95961593, -0.3657159 ,  0.02478543],\n",
       "       [-0.75649752,  0.60322629, -0.44557626, -0.29908914,  0.56007223],\n",
       "       [-0.55981486, -0.26133565, -0.17220402,  0.99645377,  0.02204578],\n",
       "       [ 0.14749373, -0.56998848, -0.87254748, -0.5278388 ,  0.17048062],\n",
       "       [-0.75649752,  0.60322629, -0.44557626, -0.29908914,  0.56007223],\n",
       "       [ 0.49504779, -0.41199272, -0.34489441, -0.10358609,  0.04887299],\n",
       "       [-0.49009531,  0.01136863, -0.64652768, -0.72295137,  0.22759111],\n",
       "       [ 0.9636992 , -0.43547073,  0.23394006, -0.73923567,  0.32516706],\n",
       "       [ 0.55963412,  0.8766563 ,  0.41919843, -0.53625257,  0.37926391],\n",
       "       [-0.1583256 , -0.32852954,  0.42205948,  1.11348131,  0.45330027],\n",
       "       [ 1.25880037,  0.37999503, -0.00803683, -0.23320425, -0.13375156],\n",
       "       [-0.32468742, -1.0155836 ,  0.44739188, -0.03729149,  0.30135349],\n",
       "       [-0.21734541, -0.18423696,  0.1643803 ,  0.03881754,  1.269711  ],\n",
       "       [ 0.52279282, -0.71867557,  0.7333321 ,  0.36119466, -0.15574891],\n",
       "       [-1.13024175,  0.36373733,  0.03838675,  0.04866407, -0.07580416],\n",
       "       [-1.13024175,  0.36373733,  0.03838675,  0.04866407, -0.07580416],\n",
       "       [ 0.9636992 , -0.43547073,  0.23394006, -0.73923567,  0.32516706],\n",
       "       [-0.72617667, -0.94838971, -0.14687162, -0.15431903, -0.12990101],\n",
       "       [ 0.5909089 ,  1.03904659, -0.40134889,  0.07363045, -0.23252493],\n",
       "       [-0.99257889, -0.35653204,  0.05407981,  0.26954321,  0.20258012],\n",
       "       [ 0.52279282, -0.71867557,  0.7333321 ,  0.36119466, -0.15574891],\n",
       "       [-0.55981486, -0.26133565, -0.17220402,  0.99645377,  0.02204578],\n",
       "       [ 0.48356689,  0.20769995, -0.11833731, -0.00247858, -1.20088244],\n",
       "       [ 0.42454709,  0.35199252, -0.37601649, -1.07714235, -0.38447171],\n",
       "       [ 0.34415798,  0.03937113, -0.27854802,  0.12098673,  0.47831126],\n",
       "       [ 0.34415798,  0.03937113, -0.27854802,  0.12098673,  0.47831126],\n",
       "       [-0.1583256 , -0.32852954,  0.42205948,  1.11348131,  0.45330027],\n",
       "       [ 0.14491792,  0.67494467, -0.09302562, -0.20782816,  0.65583196],\n",
       "       [-0.25657134,  0.74213856, -0.68728911, -0.3248557 ,  0.22457747],\n",
       "       [ 0.58025777, -0.47479208, -1.09883131,  0.19907176, -0.01005372],\n",
       "       [ 0.20393772,  0.5306521 ,  0.16465357,  0.86683561, -0.16057877],\n",
       "       [ 0.06885069,  0.00598832, -0.63056136,  0.32594583, -0.92431439],\n",
       "       [-0.17637343, -0.2220143 ,  1.16056736,  0.05814634,  0.35726656],\n",
       "       [-0.32373349,  0.69842269, -0.67186008,  0.42782142,  0.37953789]])"
      ]
     },
     "execution_count": 23,
     "metadata": {},
     "output_type": "execute_result"
    }
   ],
   "source": [
    "# split data\n",
    "from sklearn.model_selection import train_test_split\n",
    "# test data is 30% of total dataset\n",
    "X_train_pca, X_test_pca, y_train, y_test = train_test_split(X_pca,y,test_size=0.3,random_state=1)\n",
    "\n",
    "X_test_pca"
   ]
  },
  {
   "cell_type": "code",
   "execution_count": 24,
   "id": "0477efce",
   "metadata": {},
   "outputs": [
    {
     "data": {
      "text/plain": [
       "0.9032258064516129"
      ]
     },
     "execution_count": 24,
     "metadata": {},
     "output_type": "execute_result"
    }
   ],
   "source": [
    "from sklearn.linear_model import LogisticRegression\n",
    "mdl= LogisticRegression()\n",
    "\n",
    "# Train the model \n",
    "mdl.fit(X_train_pca,y_train)\n",
    "\n",
    "# \n",
    "mdl.score(X_test_pca,y_test)"
   ]
  },
  {
   "cell_type": "code",
   "execution_count": 26,
   "id": "049b0589",
   "metadata": {},
   "outputs": [
    {
     "name": "stdout",
     "output_type": "stream",
     "text": [
      "The score of the Random Forest Classifier is: 89.25%\n"
     ]
    }
   ],
   "source": [
    "model_rf2=RandomForestClassifier()\n",
    "\n",
    "# train model\n",
    "model_rf2.fit(X_train,y_train)\n",
    "\n",
    "# prediction\n",
    "y_pred_rf2=model_rf.predict(X_test)\n",
    "\n",
    "# score\n",
    "acc_rf2=model_rf2.score(X_test,y_test)\n",
    "print(f\"The score of the Random Forest Classifier is: {round(acc_rf2*100,2)}%\")"
   ]
  }
 ],
 "metadata": {
  "kernelspec": {
   "display_name": "Python 3 (ipykernel)",
   "language": "python",
   "name": "python3"
  },
  "language_info": {
   "codemirror_mode": {
    "name": "ipython",
    "version": 3
   },
   "file_extension": ".py",
   "mimetype": "text/x-python",
   "name": "python",
   "nbconvert_exporter": "python",
   "pygments_lexer": "ipython3",
   "version": "3.9.7"
  }
 },
 "nbformat": 4,
 "nbformat_minor": 5
}
